{
 "cells": [
  {
   "cell_type": "markdown",
   "metadata": {},
   "source": [
    "## Track fish in widefield fluorescence images\n",
    "This notebook assumes multiple (16+) cores are available for parallel computation"
   ]
  },
  {
   "cell_type": "code",
   "execution_count": null,
   "metadata": {},
   "outputs": [],
   "source": [
    "import numpy as np\n",
    "import matplotlib.pyplot as plt\n",
    "from glob import glob\n",
    "from skimage.io import imread\n",
    "import pims\n",
    "import fishtrack.alignment as align\n",
    "import fishtrack.filters as fish_filters\n",
    "from pathlib import Path\n",
    "import json\n",
    "from functools import partial    \n",
    "%matplotlib inline"
   ]
  },
  {
   "cell_type": "code",
   "execution_count": null,
   "metadata": {},
   "outputs": [],
   "source": [
    "def wipe_ims(pq):\n",
    "    from numpy import zeros\n",
    "    for iw in pq.images:\n",
    "      iw.setImage(zeros((1,1))) #<- dummy 1x1 image\n",
    "      iw.parent().close()\n",
    "\n",
    "def save_params(params, fname):\n",
    "    import json\n",
    "    with open(fname,'w') as f:\n",
    "        json.dump(params, f)\n",
    "        \n",
    "def mem_use():\n",
    "    import os\n",
    "    import psutil\n",
    "    pid = os.getpid()\n",
    "    py = psutil.Process(pid)\n",
    "    memory_use = py.memory_info()[0]/2.**30  # memory use in GB...I think\n",
    "    return memory_use\n",
    "\n",
    "def pool_wrapper(function, data, num_cores, mode='map'):\n",
    "    from multiprocessing import Pool\n",
    "    with Pool(num_cores) as p:\n",
    "        try:\n",
    "            if mode == 'map':\n",
    "                result = p.map(function, data)\n",
    "            elif mode == 'starmap':\n",
    "                result = p.starmap(function, data)\n",
    "        except Exception as inst:\n",
    "            print('There was a problem!')\n",
    "            print(inst)\n",
    "            return None\n",
    "    return result\n",
    "\n",
    "def get_mask_stats(masks):\n",
    "    from scipy.ndimage.measurements import center_of_mass\n",
    "    from numpy import array\n",
    "    from scipy.sparse import issparse    \n",
    "    \n",
    "    mask_stats = {}\n",
    "    masks_ = masks.copy()\n",
    "    if issparse(masks_[0]):\n",
    "        mask_stats['area'] = array([f.sum() for f in masks_])\n",
    "        mask_stats['com'] = array([center_of_mass(array(f.todense())) for f in masks_])\n",
    "    else:\n",
    "        mask_stats['area'] = array([f.sum() for f in masks_])\n",
    "        mask_stats['com'] = array([center_of_mass(f) for f in masks_])\n",
    "    return mask_stats"
   ]
  },
  {
   "cell_type": "code",
   "execution_count": null,
   "metadata": {},
   "outputs": [],
   "source": [
    "import pyqtgraph as pq\n",
    "%gui qt"
   ]
  },
  {
   "cell_type": "code",
   "execution_count": null,
   "metadata": {},
   "outputs": [],
   "source": [
    "base_paths = ['/groups/ahrens/ahrenslab/davis/data/epi/20170621/6dpf_cy221xcy221_f1_spon_1/',\n",
    "             '/groups/ahrens/ahrenslab/davis/data/epi/20170621/6dpf_cy221xcy221_f1_spon_2/', \n",
    "             '/groups/ahrens/ahrenslab/davis/data/epi/20170621/6dpf_cy221xcy221_f2_spon_1/',\n",
    "             '/groups/ahrens/ahrenslab/davis/data/epi/20170621/6dpf_cy221xcy221_f2_spon_2/',\n",
    "             '/groups/ahrens/ahrenslab/davis/data/epi/20170621/6dpf_cy221xcy221_f3_spon_1/',\n",
    "             '/groups/ahrens/ahrenslab/davis/data/epi/20170621/6dpf_cy221xcy221_f4_spon_1/',\n",
    "             '/groups/ahrens/ahrenslab/davis/data/epi/20170621/6dpf_cy221xcy221_f4_spon_2/',\n",
    "             '/groups/ahrens/ahrenslab/davis/data/epi/20170621/6dpf_cy221xcy221_f5_spon_1/',\n",
    "             '/groups/ahrens/ahrenslab/davis/data/epi/20170621/6dpf_cy221xcy221_f5_spon_2/',\n",
    "             '/groups/ahrens/ahrenslab/davis/data/epi/20170621/6dpf_cy221xcy221_f6_spon_1/',\n",
    "             '/groups/ahrens/ahrenslab/davis/data/epi/20170909/7dpf_cy221xcy221_f1_1/'] "
   ]
  },
  {
   "cell_type": "code",
   "execution_count": null,
   "metadata": {},
   "outputs": [],
   "source": [
    "im_fnames = [glob(d + 'Pos0/*.tif') for d in base_paths]\n",
    "[imf.sort() for imf in im_fnames];"
   ]
  },
  {
   "cell_type": "markdown",
   "metadata": {},
   "source": [
    "### Make a pims image sequence with our file"
   ]
  },
  {
   "cell_type": "code",
   "execution_count": null,
   "metadata": {},
   "outputs": [],
   "source": [
    "%%time\n",
    "\n",
    "multicore = True\n",
    "to_load = -1\n",
    "plr_load = slice(0, None)\n",
    "num_cores = 16\n",
    "\n",
    "fnames = im_fnames[to_load][plr_load]\n",
    "exp_name = str(Path(fnames[0]).parts[-3])\n",
    "mask_dir = base_paths[to_load] + 'masks/'\n",
    "mask_fnames = glob(mask_dir + 't*.npz')\n",
    "mask_fnames.sort()\n",
    "print('Current experiment: {0}'.format(exp_name))\n",
    "param_fname = '{0}_params.json'.format(exp_name)\n",
    "\n",
    "# try to load masks\n",
    "if len(mask_fnames) > 0:\n",
    "    from scipy.sparse import load_npz\n",
    "    fish_masks = np.array([load_npz(f) for f in mask_fnames])\n",
    "    print('Loaded fish masks')\n",
    "else:\n",
    "    fish_masks = None\n",
    "    print('No masks found')\n",
    "\n",
    "if Path(base_paths[to_load] + param_fname).exists():\n",
    "    with open(base_paths[to_load] + param_fname, 'r') as f:\n",
    "        params = json.load(f)\n",
    "        print('Params loaded')\n",
    "else:\n",
    "    params = None\n",
    "    print('Param file {0} not found'.format(param_fname))\n",
    "\n",
    "ims = pims.ImageSequence(fnames)\n",
    "print(len(ims), *ims.frame_shape)"
   ]
  },
  {
   "cell_type": "markdown",
   "metadata": {},
   "source": [
    "## Set up params "
   ]
  },
  {
   "cell_type": "code",
   "execution_count": null,
   "metadata": {},
   "outputs": [],
   "source": [
    "params = None\n",
    "if params is None:\n",
    "    params = {}\n",
    "    # args for the fish mask finding\n",
    "    params['fish_mask'] = {'sigma' : 2, 'disk_size' : 40, 'shrink_factors' : [.1,.1], 'min_sizes' : [100,100]}\n",
    "    # set bbox to crop around the fish, formatted [x_start, y_start, x_end, y_end]\n",
    "    params['fish_bbox'] = [-200, -100, 40, 100]\n",
    "    # estimated size of the brain; used for fine registration\n",
    "    params['brain_size'] = [80, 100]\n",
    "    save_params(params, base_paths[to_load] + param_fname)    "
   ]
  },
  {
   "cell_type": "markdown",
   "metadata": {},
   "source": [
    "## Get fish masks"
   ]
  },
  {
   "cell_type": "code",
   "execution_count": null,
   "metadata": {},
   "outputs": [],
   "source": [
    "fish_mask_wrapper = partial(fish_filters.get_fish_mask ,**params['fish_mask'])        "
   ]
  },
  {
   "cell_type": "code",
   "execution_count": null,
   "metadata": {},
   "outputs": [],
   "source": [
    "nr = 3\n",
    "nc = 3\n",
    "fig, axs= plt.subplots(nrows=nr, ncols=nc, figsize=(nr * 4,nc * 4))\n",
    "\n",
    "times = np.linspace(0, (len(ims) - 1), nr*nc).astype('int')\n",
    "\n",
    "for ind, ax_ in enumerate(axs.ravel()):\n",
    "    ax_.imshow((np.array(fish_mask_wrapper(ims[times[ind]]).todense()) * ims[times[ind]]), origin='lower', cmap='gray')\n",
    "    ax_.axis('off')\n",
    "plt.subplots_adjust(wspace=-.1,hspace=0)"
   ]
  },
  {
   "cell_type": "markdown",
   "metadata": {},
   "source": [
    "## Generate fish masks if they weren't loaded"
   ]
  },
  {
   "cell_type": "code",
   "execution_count": null,
   "metadata": {},
   "outputs": [],
   "source": [
    "%%time\n",
    "if fish_masks is None:\n",
    "    fish_masks = np.array(pool_wrapper(fish_mask_wrapper, ims, num_cores))    "
   ]
  },
  {
   "cell_type": "markdown",
   "metadata": {},
   "source": [
    "## Save masks"
   ]
  },
  {
   "cell_type": "code",
   "execution_count": null,
   "metadata": {},
   "outputs": [],
   "source": [
    "%%time\n",
    "from os import mkdir\n",
    "from os.path import exists\n",
    "if not exists(mask_dir):\n",
    "    mkdir(mask_dir)\n",
    "\n",
    "from scipy.sparse import save_npz\n",
    "mask_fnames = [mask_dir + 't{:09d}_mask.npy'.format(ind) for ind in range(len(fish_masks))]\n",
    "pool_wrapper(save_npz, zip(mask_fnames, fish_masks), num_cores = num_cores, mode='starmap')\n"
   ]
  },
  {
   "cell_type": "code",
   "execution_count": null,
   "metadata": {},
   "outputs": [],
   "source": [
    "masks_full = np.array([f.toarray() for f in fish_masks])\n",
    "pq.image(masks_full)"
   ]
  },
  {
   "cell_type": "code",
   "execution_count": null,
   "metadata": {},
   "outputs": [],
   "source": [
    "from matplotlib.cm import seismic\n",
    "fig, axs = plt.subplots(nrows=1, ncols=2, gridspec_kw={'width_ratios' : (1,3)}, figsize=(12,4))\n",
    "axs[0].imshow(ims[-1])\n",
    "fish_mask_stats = get_mask_stats(fish_masks)\n",
    "com = fish_mask_stats['com'].T[::-1]\n",
    "colors = seismic(np.linspace(0,1,com.shape[1]))\n",
    "\n",
    "axs[0].scatter(com[0], com[1], marker='.', color=colors)\n",
    "axs[0].title.set_text('Center of mass of fish mask')\n",
    "axs[1].title.set_text('Area of fish mask')\n",
    "axs[1].plot(fish_mask_stats['area'])\n",
    "plt.tight_layout()"
   ]
  },
  {
   "cell_type": "markdown",
   "metadata": {},
   "source": [
    "## Localize the brain and the center of mass of the body"
   ]
  },
  {
   "cell_type": "code",
   "execution_count": null,
   "metadata": {},
   "outputs": [],
   "source": [
    "from scipy.ndimage.measurements import center_of_mass\n",
    "from fishtrack.measurements import remotest_point\n",
    "\n",
    "def sparse_center_of_mass(image):\n",
    "    from scipy.sparse import issparse\n",
    "    from scipy.ndimage.measurements import center_of_mass\n",
    "    from numpy import array, nan\n",
    "    \n",
    "    image_ = image.copy()\n",
    "    result = (nan, nan)\n",
    "    \n",
    "    if issparse(image_):\n",
    "        image_ = array(image_.todense())\n",
    "    \n",
    "    if image_.any():\n",
    "        result = center_of_mass(image_)\n",
    "    \n",
    "    return result\n",
    "\n",
    "# here's a place to filter these values to get rid of outliers\n",
    "brain_centers = np.array(pool_wrapper(remotest_point, fish_masks, num_cores=num_cores))\n",
    "body_centers = np.array(pool_wrapper(sparse_center_of_mass, fish_masks, num_cores=num_cores))"
   ]
  },
  {
   "cell_type": "markdown",
   "metadata": {
    "collapsed": true
   },
   "source": [
    "### Optional: display the fish masks using pyqtgraph"
   ]
  },
  {
   "cell_type": "code",
   "execution_count": null,
   "metadata": {},
   "outputs": [],
   "source": [
    "fig, axs = plt.subplots(figsize=(12,4))\n",
    "axs.plot(brain_centers, label='brain centers')\n",
    "axs.plot(body_centers, label='body centers')\n",
    "axs.legend()"
   ]
  },
  {
   "cell_type": "markdown",
   "metadata": {},
   "source": [
    "## Save body centers and brain centers to disk"
   ]
  },
  {
   "cell_type": "code",
   "execution_count": null,
   "metadata": {},
   "outputs": [],
   "source": [
    "np.savez(base_paths[to_load] + exp_name + '_position_data.npz', brain_centers=brain_centers, body_centers=body_centers)"
   ]
  },
  {
   "cell_type": "markdown",
   "metadata": {},
   "source": [
    "## Get oriented masks and coarse transform parameters"
   ]
  },
  {
   "cell_type": "code",
   "execution_count": null,
   "metadata": {},
   "outputs": [],
   "source": [
    "%%time\n",
    "rotations = pool_wrapper(align.orient_tail, zip(fish_masks, brain_centers, body_centers), num_cores, mode='starmap')"
   ]
  },
  {
   "cell_type": "code",
   "execution_count": null,
   "metadata": {},
   "outputs": [],
   "source": [
    "fig, axs = plt.subplots(nrows=1, figsize=(12,3), sharex=True, squeeze=False)\n",
    "axs[0][0].plot(rotations,'k', alpha=.8, label='rotations')\n",
    "axs[0][0].legend()"
   ]
  },
  {
   "cell_type": "markdown",
   "metadata": {},
   "source": [
    "## Use transform parameters to generate cropped, masked fish image"
   ]
  },
  {
   "cell_type": "code",
   "execution_count": null,
   "metadata": {},
   "outputs": [],
   "source": [
    "%%time\n",
    "# the crop window is relative to the estimated brain position\n",
    "bbox = params['fish_bbox']\n",
    "window_x = np.arange(bbox[0],bbox[2], dtype='int').reshape(-1,1)\n",
    "window_y = np.arange(bbox[1],bbox[3], dtype='int')\n",
    "crop_window = [(window_y, window_x)] * len(ims)\n",
    "oriented_ims = np.array(pool_wrapper(align.get_cropped_fish, zip(ims, rotations, brain_centers, crop_window), num_cores, mode='starmap'))"
   ]
  },
  {
   "cell_type": "code",
   "execution_count": null,
   "metadata": {},
   "outputs": [],
   "source": [
    "pq.image(oriented_ims)"
   ]
  },
  {
   "cell_type": "code",
   "execution_count": null,
   "metadata": {},
   "outputs": [],
   "source": [
    "wipe_ims(pq)"
   ]
  },
  {
   "cell_type": "markdown",
   "metadata": {},
   "source": [
    "## Do fine alignment on oriented fish images"
   ]
  },
  {
   "cell_type": "code",
   "execution_count": null,
   "metadata": {},
   "outputs": [],
   "source": [
    "%%time\n",
    "t_ref = -1\n",
    "static = [oriented_ims[t_ref]] * oriented_ims.shape[0]\n",
    "brain_positions = [np.array([np.where(window_y==0)[0][0], np.where(window_x==0)[0][0]])] * oriented_ims.shape[0]\n",
    "brain_size = [params['brain_size']] * oriented_ims.shape[0]\n",
    "aligned_ims, txs = zip(*pool_wrapper(align.align_brains, zip(static, oriented_ims, brain_positions, brain_size), num_cores=num_cores, mode='starmap'))\n",
    "aligned_ims = np.array(aligned_ims).astype('uint16')"
   ]
  },
  {
   "cell_type": "code",
   "execution_count": null,
   "metadata": {},
   "outputs": [],
   "source": [
    "affines = np.array([tx.affine for tx in txs])\n",
    "fig, axs = plt.subplots(figsize=(12,4))\n",
    "axs.plot(affines[:,0,-1], alpha=.7)\n",
    "axs.plot(affines[:,1,-1], alpha=.7)"
   ]
  },
  {
   "cell_type": "code",
   "execution_count": null,
   "metadata": {},
   "outputs": [],
   "source": [
    "from skimage.io import imsave \n",
    "imsave(base_paths[to_load] + exp_name + '_aligned.tif', aligned_ims)"
   ]
  },
  {
   "cell_type": "code",
   "execution_count": null,
   "metadata": {},
   "outputs": [],
   "source": [
    "np.save(base_paths[to_load] + 'regparams.npy', affines)"
   ]
  },
  {
   "cell_type": "code",
   "execution_count": null,
   "metadata": {},
   "outputs": [],
   "source": [
    "# this roi works for '/groups/ahrens/ahrenslab/davis/data/epi/20170621/6dpf_cy221xcy221_f2_spon_1/Pos0/'\n",
    "from fishtrack.measurements import tail_angle\n",
    "from scipy.ndimage.filters import median_filter\n",
    "roi = (slice(0,None), slice(94,99), slice(190,194))\n",
    "fs_im = 100\n",
    "t = np.arange(oriented_ims.shape[0])[roi[0]] / fs_im\n",
    "fig, axs = plt.subplots(nrows=2, figsize=(12,8))\n",
    "ax_angle = axs[0]\n",
    "ax_angle.plot(t, tail_angle(oriented_ims[roi[0]], (100,200), 90)[0], color='grey')\n",
    "ax_angle.set_ylabel('Radians')\n",
    "ts = oriented_ims[roi].mean((1,2))\n",
    "floor_ = 1800\n",
    "ceil_ = None\n",
    "ax_fluo = ax_angle.twinx()\n",
    "#ax_fluo.plot(t, ts.clip(floor_, ceil_), alpha = .4)\n",
    "ax_fluo.plot(t, median_filter(ts, size=200).clip(floor_, ceil_), linewidth=2, color='k', alpha=.7)\n",
    "ax_fluo.set_ylabel('Fluorescence Intensity [au]')\n",
    "axs[0].legend([ax_angle.lines[-1], ax_fluo.lines[-1]], ['Tail angle','Smoothed fluorescence'], )\n",
    "\n",
    "axs[0].set_xlabel('Time [s]')\n",
    "\n",
    "from matplotlib.patches import Rectangle\n",
    "axs[1].imshow(oriented_ims[roi[0]].mean(0), cmap='gray', origin='lower')\n",
    "rect = Rectangle((roi[2].start, roi[1].start), roi[2].stop - roi[2].start, roi[1].stop - roi[1].start, fill=False, color='r')\n",
    "axs[1].add_patch(rect)"
   ]
  },
  {
   "cell_type": "markdown",
   "metadata": {},
   "source": [
    "# Test quality of tail orientation "
   ]
  },
  {
   "cell_type": "markdown",
   "metadata": {},
   "source": [
    "## Registration debugging "
   ]
  },
  {
   "cell_type": "code",
   "execution_count": null,
   "metadata": {},
   "outputs": [],
   "source": [
    "import numpy as np\n",
    "from skimage.io import imread\n",
    "from skimage import data_dir\n",
    "from skimage.transform import rotate\n",
    "from numpy import rad2deg\n",
    "from dipy.align.imaffine import AffineRegistration\n",
    "from dipy.align.transforms import RotationTransform2D \n",
    "\n",
    "affreg = AffineRegistration(verbosity=0)\n",
    "rotation = RotationTransform2D()\n",
    "\n",
    "static = imread(data_dir + \"/phantom.png\", as_grey=True)\n",
    "\n",
    "rot_phi = .3\n",
    "moving = rotate(static, rad2deg(rot_phi))\n",
    "mg2w = np.array([[1,0,-moving.shape[0]//2],[0,1,-moving.shape[1]//2],[0,0,1]])\n",
    "sg2w = mg2w\n",
    "params0 = None\n",
    "starting_affine = None\n",
    "tx = affreg.optimize(static, moving, rotation, params0, static_grid2world=sg2w, moving_grid2world=mg2w, starting_affine=starting_affine)\n",
    "titles = ['Static', 'Moving', 'Transformed Moving']\n",
    "\n",
    "samp_g2w = np.eye(3)\n",
    "samp_g2w[0,-1] = -200\n",
    "samp_g2w[1,-1] = -200\n",
    "\n",
    "fig, axs = plt.subplots(ncols = 3)\n",
    "axs[0].imshow(static, origin='lower')\n",
    "axs[1].imshow(moving, origin='lower')\n",
    "axs[2].imshow(tx.transform(moving), origin='lower')\n",
    "[axs[ind].title.set_text(val) for ind, val in enumerate(titles)]\n",
    "\n",
    "print('True angle      : {0}'.format(rot_phi))\n",
    "print('Estimated angle : {0}'.format(np.arccos(tx.affine[0,0])))"
   ]
  },
  {
   "cell_type": "code",
   "execution_count": null,
   "metadata": {},
   "outputs": [],
   "source": [
    "from dipy.align.imaffine import AffineMap\n",
    "from skimage.transform import AffineTransform\n",
    "from skimage.transform import warp"
   ]
  },
  {
   "cell_type": "code",
   "execution_count": null,
   "metadata": {},
   "outputs": [],
   "source": [
    "g2ws = np.eye(3)\n",
    "g2ws[0,2] = -(static.shape[0] / 2)\n",
    "g2ws[1,2] = -(static.shape[1] / 2)\n",
    "\n",
    "g2wi = np.eye(3)\n",
    "g2wi[0,2] = -(static.shape[0] / 2) - 100\n",
    "g2wi[1,2] = -(static.shape[0] / 2)\n",
    "\n",
    "affmap_r = AffineMap(np.eye(3))\n",
    "affmap_r.codomain_shape = static.shape\n",
    "affmap_r.domain_shape = static.shape\n",
    "\n",
    "phi = np.pi\n",
    "affmap_r.affine[:2,:2] = rotmat2d(phi)\n",
    "\n",
    "dy, dx = 0,-100\n",
    "affmap_r.affine[0,-1] = dy\n",
    "affmap_r.affine[1,-1] = dx\n",
    "rotated = affmap_r.transform(static, sampling_grid_shape=static.shape, sampling_grid2world=g2ws, image_grid2world=g2wi)\n",
    "\n",
    "affmap_t = AffineMap(np.eye(3))\n",
    "affmap_t.codomain_shape = static.shape\n",
    "affmap_t.domain_shape = static.shape\n",
    "\n",
    "dx, dy = 0,0\n",
    "affmap_t.affine[0,-1] = dx\n",
    "affmap_t.affine[1,-1] = dy\n",
    "\n",
    "translated = affmap_t.transform(rotated, sampling_grid_shape=static.shape, sampling_grid2world = g2ws, image_grid2world=g2wi)\n",
    "fig, axs = plt.subplots(ncols=2)\n",
    "axs[0].imshow(static + rotated, origin='lower')\n",
    "axs[1].imshow(static + translated, origin='lower')"
   ]
  },
  {
   "cell_type": "code",
   "execution_count": null,
   "metadata": {},
   "outputs": [],
   "source": [
    "plt.imshow(affine_wrapper(static, affmap.affine[:2,:2], np.array(static.shape) / 2, np.array(static.shape) / 2 + (0,0)), origin='lower')"
   ]
  },
  {
   "cell_type": "code",
   "execution_count": null,
   "metadata": {},
   "outputs": [],
   "source": [
    "transform = affmap.affine[:2,:2]\n",
    "c_in = np.array(static.shape) / 2\n",
    "c_out = np.array(static.shape) / 2 + (100,100)\n",
    "offset = c_in - c_out.dot(transform)\n",
    "plt.imshow(affine_transform(static, transform.T, offset=offset), origin='lower')"
   ]
  },
  {
   "cell_type": "code",
   "execution_count": null,
   "metadata": {},
   "outputs": [],
   "source": [
    "from skimage import data\n",
    "from skimage import transform\n",
    "import numpy as np\n",
    "import matplotlib.pyplot as plt\n",
    "\n",
    "image = data.chelsea()[:,:,1]\n",
    "def centered_rotation(image, rotation_center, new_center, phi):\n",
    "    \"\"\"\n",
    "    Return an affine matrix for rotating an image around a center point\n",
    "    \"\"\"\n",
    "    from numpy import array, matrix\n",
    "    from skimage.transform import warp, AffineTransform\n",
    "    origin_y, origin_x = rotation_center\n",
    "    shift_y, shift_x = new_center\n",
    "    tf_rotate = AffineTransform(rotation=phi)\n",
    "    tf_shift = AffineTransform(translation=[-origin_x, -origin_y])\n",
    "    tf_shift_inv = AffineTransform(translation=[shift_x, shift_y])\n",
    "    params = (tf_shift + (tf_rotate + tf_shift_inv)).params\n",
    "    tform = matrix(params).I\n",
    "            \n",
    "    return tform\n",
    "\n",
    "shift = AffineTransform(translation = (100,100))\n",
    "fig, axs = plt.subplots(ncols=2)\n",
    "axs[0].imshow(image, origin='lower')\n",
    "from fishtrack.alignment import centered_rotation\n",
    "tform = centered_rotation(image, np.array(image.shape) / 2, np.array(image.shape) / 2 + [10,100], np.pi/4)\n",
    "axs[1].imshow(warp(image, AffineTransform(tform)), origin='lower')"
   ]
  },
  {
   "cell_type": "code",
   "execution_count": null,
   "metadata": {},
   "outputs": [],
   "source": []
  }
 ],
 "metadata": {
  "anaconda-cloud": {},
  "kernelspec": {
   "display_name": "Python 3",
   "language": "python",
   "name": "python3"
  },
  "language_info": {
   "codemirror_mode": {
    "name": "ipython",
    "version": 3
   },
   "file_extension": ".py",
   "mimetype": "text/x-python",
   "name": "python",
   "nbconvert_exporter": "python",
   "pygments_lexer": "ipython3",
   "version": "3.6.4"
  }
 },
 "nbformat": 4,
 "nbformat_minor": 1
}
