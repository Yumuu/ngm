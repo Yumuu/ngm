{
 "cells": [
  {
   "cell_type": "code",
   "execution_count": 1,
   "metadata": {
    "collapsed": true
   },
   "outputs": [],
   "source": [
    "import numpy as np\n",
    "import matplotlib.pyplot as plt\n",
    "from glob import glob\n",
    "import thunder as td\n",
    "%matplotlib inline"
   ]
  },
  {
   "cell_type": "code",
   "execution_count": 5,
   "metadata": {
    "collapsed": true
   },
   "outputs": [],
   "source": [
    "def dff(v):\n",
    "    import numpy as np\n",
    "    baseline=np.percentile(v, 10)\n",
    "    return (v - baseline) / (baseline + .1)"
   ]
  },
  {
   "cell_type": "code",
   "execution_count": 2,
   "metadata": {},
   "outputs": [
    {
     "name": "stdout",
     "output_type": "stream",
     "text": [
      "200\n"
     ]
    }
   ],
   "source": [
    "paths = {}\n",
    "paths['base'] =  '/groups/ahrens/ahrenslab/FROM_TIER2/Yu/SPIM/active_datasets/20161019/fish3/20161019_3_1_GFAPGCaMP_6dpf_dark_0gain_20161019_201709/'\n",
    "paths['raw']= paths['base'] + 'raw/'\n",
    "paths['ep'] = '/groups/ahrens/ahrenslab/FROM_TIER2/Yu/SPIM/active_datasets/20161019/fish3/20161019_3_1_GFAPGCaMP_6dpf_dark_0gain_20161019_201709/ephys/data.mat'\n",
    "\n",
    "fnames = glob(paths['raw'] + 'TM*')\n",
    "fnames.sort()\n",
    "t_range = slice(800, 1000)\n",
    "fnames = fnames[t_range]\n",
    "print(len(fnames))"
   ]
  },
  {
   "cell_type": "code",
   "execution_count": 7,
   "metadata": {},
   "outputs": [
    {
     "name": "stdout",
     "output_type": "stream",
     "text": [
      "CPU times: user 36.4 s, sys: 504 ms, total: 36.9 s\n",
      "Wall time: 45.7 s\n"
     ]
    }
   ],
   "source": [
    "%%time\n",
    "ims = td.images.fromlist(fnames, accessor=im_loader, engine=sc, npartitions=len(fnames)).median_filter(size=(1,3,3))\n",
    "dff_ims = ims.map_as_series(dff)"
   ]
  },
  {
   "cell_type": "code",
   "execution_count": 8,
   "metadata": {},
   "outputs": [
    {
     "name": "stdout",
     "output_type": "stream",
     "text": [
      "CPU times: user 5.24 s, sys: 2.1 s, total: 7.34 s\n",
      "Wall time: 1min 21s\n"
     ]
    }
   ],
   "source": [
    "%%time\n",
    "local = dff_ims.map(lambda v: v.max(0)).toarray()"
   ]
  },
  {
   "cell_type": "code",
   "execution_count": 9,
   "metadata": {
    "collapsed": true
   },
   "outputs": [],
   "source": [
    "from skimage.io import imsave\n",
    "imsave('/groups/ahrens/ahrenslab/davis/tmp/mov_test.tif', local.astype('float32'), compress=1)"
   ]
  },
  {
   "cell_type": "code",
   "execution_count": null,
   "metadata": {
    "collapsed": true
   },
   "outputs": [],
   "source": []
  }
 ],
 "metadata": {
  "kernelspec": {
   "display_name": "Python [default]",
   "language": "python",
   "name": "python3"
  },
  "language_info": {
   "codemirror_mode": {
    "name": "ipython",
    "version": 3
   },
   "file_extension": ".py",
   "mimetype": "text/x-python",
   "name": "python",
   "nbconvert_exporter": "python",
   "pygments_lexer": "ipython3",
   "version": "3.5.3"
  }
 },
 "nbformat": 4,
 "nbformat_minor": 2
}
