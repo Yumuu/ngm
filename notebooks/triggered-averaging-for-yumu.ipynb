{
 "cells": [
  {
   "cell_type": "code",
   "execution_count": 1,
   "metadata": {},
   "outputs": [],
   "source": [
    "import numpy as np\n",
    "import matplotlib.pyplot as plt\n",
    "from scipy.io import loadmat\n",
    "from fish.image.vol import get_stack_freq\n",
    "from glob import glob\n",
    "%matplotlib inline"
   ]
  },
  {
   "cell_type": "code",
   "execution_count": 15,
   "metadata": {},
   "outputs": [],
   "source": [
    "def h5_loader(fn, roi=None):\n",
    "    from h5py import File\n",
    "    with File(fn) as f:\n",
    "        if roi is not None:\n",
    "            return f['default'][roi]\n",
    "        else:\n",
    "            return f['default'][:]\n",
    "        \n",
    "def load_planewise(fnames, timepoint, timepoints_per_file=50):    \n",
    "    cur_file = timepoint // timepoints_per_file\n",
    "    cur_slice = timepoint % timepoints_per_file    \n",
    "    return h5_loader(fnames[cur_file], roi=(slice(cur_slice, cur_slice + 1), slice(0, None), slice(0, None)))\n",
    "\n",
    "def load_timerange(fnames, timerange, timepoints_per_file=50):\n",
    "    from numpy import concatenate\n",
    "    from collections import OrderedDict\n",
    "    file_inds = timerange // timepoints_per_file\n",
    "    file_slices = timerange % timepoints_per_file    \n",
    "    chunks = OrderedDict()\n",
    "    for ind in sorted(set(file_inds)):\n",
    "        slices = file_slices[file_inds == ind]\n",
    "        chunks[ind] = slice(slices.min(), slices.max() + 1)\n",
    "    \n",
    "    return concatenate([h5_loader(fnames[key], roi=val) for key,val in chunks.items()])\n",
    "\n",
    "def vol_dff(data, q=20, offset=5):\n",
    "    from numpy import percentile\n",
    "    baseline = percentile(data, q, axis=0)\n",
    "    return (data - baseline) / (baseline + offset)\n",
    "\n",
    "def register_timerange(data, timerange, regparams):    \n",
    "    from scipy.ndimage.interpolation import shift\n",
    "    from scipy.signal import medfilt\n",
    "    import thunder as td\n",
    "    \n",
    "    filtered = -medfilt(regparams[timerange,:2,-1], 2001)\n",
    "    registered = td.images.fromarray(data, engine=sc)\n",
    "    registered = registered.map(lambda kv: shift(kv[1], filtered[kv[0][0]], order=1), with_keys=True).toarray()\n",
    "    \n",
    "    return registered"
   ]
  },
  {
   "cell_type": "code",
   "execution_count": 4,
   "metadata": {},
   "outputs": [],
   "source": [
    "paths = {}\n",
    "paths['base'] = '/groups/ahrens/ahrenslab//YuMu/SPIM/active_datasets/20170609/fish1/20170609_1_1_th1gc6s_gfaprgeco_probe_multivel_20170609_102623/'\n",
    "paths['ephys'] = paths['base'] + 'ephys/'\n",
    "paths['ims'] = paths['base'] + 'raw/'\n",
    "regparams = np.load(paths['base'] + 'regparams_affine_yumu.npy')\n",
    "fnames = sorted(glob(paths['ims'] + 'TM*'))\n",
    "\n",
    "trigger1 = np.array(loadmat(paths['ephys'] + 's_m_frame.mat')['s_m_frame']);\n",
    "trigger2 = np.array(loadmat(paths['ephys'] + 's_frame.mat')['s_frame']);\n",
    "trigger3 = np.array(loadmat(paths['ephys'] + 'm_frame.mat')['m_frame']);"
   ]
  },
  {
   "cell_type": "code",
   "execution_count": 62,
   "metadata": {},
   "outputs": [],
   "source": [
    "output_dir = '/groups/ahrens/ahrenslab/davis/for_yumu/20170609_1_1_th1gc6s_gfaprgeco_probe_multivel_20170609_102623/'\n",
    "# 50 planes per stack times the reported number of stacks per second\n",
    "fs_im = get_stack_freq(paths['ims'])[0] * 50\n",
    "window = np.arange(-1 * fs_im, 4 * fs_im, dtype='int')\n",
    "np.save(output_dir + 'average_window.npy', window)\n",
    "timeranges = [window + t for t in [trigger1, trigger2, trigger3]]"
   ]
  },
  {
   "cell_type": "code",
   "execution_count": 55,
   "metadata": {},
   "outputs": [],
   "source": [
    "def get_triggered_averages(timeranges, fnames):\n",
    "    import thunder as td\n",
    "    from scipy.ndimage.filters import median_filter, gaussian_filter\n",
    "    from scipy.signal import savgol_filter\n",
    "    tr_kv = [(ind , val) for ind, val in enumerate(timeranges)]\n",
    "    trials_raw = sc.parallelize(tr_kv, numSlices=len(tr_kv)).mapValues(lambda v: load_timerange(fnames, v))    \n",
    "    trials_filt = trials_raw.mapValues(lambda v: median_filter(v, (1,3,3))).mapValues(lambda v: gaussian_filter(v, (0,2,2)))\n",
    "    trials_smoothed = trials_filt.mapValues(lambda v: savgol_filter(v, 21, polyorder=3,axis=0))\n",
    "    trials_dff = trials_smoothed.mapValues(lambda v: vol_dff(v))\n",
    "    trial_ims = td.images.fromrdd(trials_dff)\n",
    "    tr_mean = trial_ims.mean().toarray().astype('float32')\n",
    "    \n",
    "    return tr_mean"
   ]
  },
  {
   "cell_type": "code",
   "execution_count": 56,
   "metadata": {},
   "outputs": [],
   "source": [
    "triggered_means = [get_triggered_averages(tr, fnames) for tr in timeranges]"
   ]
  },
  {
   "cell_type": "code",
   "execution_count": 60,
   "metadata": {},
   "outputs": [
    {
     "name": "stderr",
     "output_type": "stream",
     "text": [
      "/groups/ahrens/home/bennettd/anaconda3/lib/python3.5/site-packages/skimage/io/_io.py:132: UserWarning: /groups/ahrens/ahrenslab/davis/trigger_1_mean.tif is a low contrast image\n",
      "  warn('%s is a low contrast image' % fname)\n",
      "/groups/ahrens/home/bennettd/anaconda3/lib/python3.5/site-packages/skimage/io/_io.py:132: UserWarning: /groups/ahrens/ahrenslab/davis/trigger_2_mean.tif is a low contrast image\n",
      "  warn('%s is a low contrast image' % fname)\n",
      "/groups/ahrens/home/bennettd/anaconda3/lib/python3.5/site-packages/skimage/io/_io.py:132: UserWarning: /groups/ahrens/ahrenslab/davis/trigger_3_mean.tif is a low contrast image\n",
      "  warn('%s is a low contrast image' % fname)\n"
     ]
    },
    {
     "data": {
      "text/plain": [
       "[None, None, None]"
      ]
     },
     "execution_count": 60,
     "metadata": {},
     "output_type": "execute_result"
    }
   ],
   "source": [
    "from skimage.io import imsave\n",
    "[imsave('/groups/ahrens/ahrenslab/davis/trigger_{0}_mean.tif'.format(1 + ind), trm) for ind, trm in enumerate(triggered_means)]"
   ]
  }
 ],
 "metadata": {
  "kernelspec": {
   "display_name": "Python 3",
   "language": "python",
   "name": "python3"
  },
  "language_info": {
   "codemirror_mode": {
    "name": "ipython",
    "version": 3
   },
   "file_extension": ".py",
   "mimetype": "text/x-python",
   "name": "python",
   "nbconvert_exporter": "python",
   "pygments_lexer": "ipython3",
   "version": "3.5.4"
  }
 },
 "nbformat": 4,
 "nbformat_minor": 2
}
