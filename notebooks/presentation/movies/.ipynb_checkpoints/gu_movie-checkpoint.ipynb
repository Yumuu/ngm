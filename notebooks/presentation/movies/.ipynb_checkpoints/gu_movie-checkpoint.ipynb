{
 "cells": [
  {
   "cell_type": "markdown",
   "metadata": {},
   "source": [
    "# Save a movie showing a few instances of giving up"
   ]
  },
  {
   "cell_type": "code",
   "execution_count": 1,
   "metadata": {},
   "outputs": [
    {
     "name": "stdout",
     "output_type": "stream",
     "text": [
      "Starting flika\n",
      "Starting flika inside IPython\n"
     ]
    }
   ],
   "source": [
    "%matplotlib inline\n",
    "import shutil\n",
    "import matplotlib\n",
    "matplotlib.rc('font', family='arial') \n",
    "import matplotlib.pyplot as plt\n",
    "import matplotlib.gridspec as gs\n",
    "from matplotlib import cm\n",
    "from scipy.interpolate import interp1d\n",
    "import numpy as np\n",
    "from skimage.io import imread\n",
    "from fish.image.zds import ZDS\n",
    "from fish.ephys.ephys import load\n",
    "from fish.util.distributed import get_jobqueue_cluster\n",
    "import dask.array as da\n",
    "from dask.distributed import Client\n",
    "from dask.array import coarsen\n",
    "from functools import partial\n",
    "from h5py import File\n",
    "import flika as flk\n",
    "import time\n",
    "import attr\n",
    "flk.start_flika()\n",
    "\n",
    "from skimage.transform import downscale_local_mean\n",
    "from scipy.ndimage.filters import median_filter\n",
    "\n",
    "from skimage.exposure import rescale_intensity as rescale\n",
    "from scipy.ndimage.filters import gaussian_filter\n",
    "from moviepy.editor import ImageSequenceClip, VideoClip, concatenate_videoclips\n",
    "from moviepy.video.io.bindings import mplfig_to_npimage"
   ]
  },
  {
   "cell_type": "code",
   "execution_count": 2,
   "metadata": {},
   "outputs": [],
   "source": [
    "def shift_yx(im, shifts, block_id):\n",
    "    from scipy.ndimage.interpolation import shift\n",
    "    t = block_id[0]    \n",
    "    return shift(im.astype('float32'), (0,0, *shifts[t]), order=1, cval=100)\n",
    "\n",
    "def rearrange(im):\n",
    "    mp = im.shape[1]//2\n",
    "    hemi = np.concatenate([im[:,:mp], im[:,mp:]], axis=2)\n",
    "    padded = np.pad(hemi, ((0,0), (29,29), (29,29), (0,0)), mode='constant')\n",
    "    mont = montage(padded, rgb=True)\n",
    "    return mont\n",
    "\n",
    "def montage(vol, rgb=False):\n",
    "    if rgb:\n",
    "        if vol.ndim == 4:\n",
    "            return vol.reshape(vol.shape[0] * vol.shape[1], vol.shape[2], vol.shape[3])\n",
    "        elif vol.ndim == 5:\n",
    "            return vol.reshape(vol.shape[0], vol.shape[1] * vol.shape[2], vol.shape[3], vol.shape[4])\n",
    "    else:\n",
    "        if vol.ndim == 4:\n",
    "            return vol.reshape(vol.shape[0], vol.shape[1] * vol.shape[2], vol.shape[3])\n",
    "        elif vol.ndim == 5:\n",
    "            return vol.reshape(vol.shape[0], vol.shape[1] * vol.shape[2], vol.shape[3], vol.shape[4])"
   ]
  },
  {
   "cell_type": "code",
   "execution_count": 3,
   "metadata": {},
   "outputs": [
    {
     "name": "stdout",
     "output_type": "stream",
     "text": [
      "[ 5 10 15 20 26]\n"
     ]
    }
   ],
   "source": [
    "from scipy.io import loadmat\n",
    "base_dir = '/nrs/ahrens/Yu/SPIM/active_dataset/glia_neuron_imaging/20170228/fish4/20170228_4_1_gfaprgeco_hucgc_6dpf_shorttrials_20170228_185002/'\n",
    "ephys = File(base_dir + 'ephys/data.mat')['data']\n",
    "ep_raw = File(base_dir + 'ephys/rawdata.mat')\n",
    "gain_signal = np.squeeze(File(base_dir + 'ephys/rawdata.mat')['rawdata/stimGain'][:])\n",
    "\n",
    "#stimvel = File(base_dir + 'ephys/rawdata.mat')['rawdata/stimVelNull'][:].squeeze()\n",
    "stimvel = loadmat(base_dir + 'ephys/stimVelNull_corrected.mat')['stimVelNull_corrected'].squeeze()\n",
    "swims = np.squeeze(ephys['fltCh1'][:] + ephys['fltCh2'][:])\n",
    "cam = np.squeeze(ephys['frame'][:]) - 1\n",
    "frame = np.where(np.diff(cam).clip(0,None) == 1)[0]\n",
    "shifts = -np.load(base_dir + 'regparams_affine.npy')[:,:-1,-1]\n",
    "shifts = median_filter(shifts, size=(300,1))\n",
    "dset = ZDS(base_dir + 'raw/')\n",
    "exp_name = dset.metadata['data_header']\n",
    "planes = np.linspace(5, dset.shape[1]-3, 5).astype('int')\n",
    "zstep = int(np.diff(planes[:2]))\n",
    "fs_im = dset.metadata['volume_rate']\n",
    "print(planes)"
   ]
  },
  {
   "cell_type": "code",
   "execution_count": null,
   "metadata": {},
   "outputs": [],
   "source": [
    "def mydff(v, fs_im):\n",
    "    from fish.image.vol import dff\n",
    "    camera_offset = 100\n",
    "    window = 300 * fs_im\n",
    "    percentile = 20\n",
    "    offset = 10    \n",
    "    downsample = 10;\n",
    "    return dff((v - camera_offset).clip(1, None), window, percentile, offset, downsample, axis=0).astype('float32')"
   ]
  },
  {
   "cell_type": "code",
   "execution_count": null,
   "metadata": {},
   "outputs": [
    {
     "data": {
      "text/plain": [
       "[<matplotlib.lines.Line2D at 0x2ad17ff94f28>]"
      ]
     },
     "execution_count": 5,
     "metadata": {},
     "output_type": "execute_result"
    },
    {
     "data": {
      "image/png": "[encoded data removed]",
      "text/plain": [
       "<Figure size 432x288 with 2 Axes>"
      ]
     },
     "metadata": {
      "needs_background": "light"
     },
     "output_type": "display_data"
    }
   ],
   "source": [
    "roi = (slice(292, 6000), slice(planes[0], planes[-1], zstep), slice(None), slice(None))\n",
    "plr = slice(np.where(cam == roi[0].start)[0][0], np.where(cam==roi[0].stop)[0][0])\n",
    "plt.plot(swims[plr][::100])\n",
    "plt.twinx().plot(gain_signal[plr][::100], color='y')"
   ]
  },
  {
   "cell_type": "code",
   "execution_count": null,
   "metadata": {},
   "outputs": [],
   "source": [
    "data = dset.data[roi]\n",
    "data_tx = data.map_blocks(shift_yx, shifts[roi[0]], dtype='float32')\n",
    "medfilt = partial(median_filter, size=(1,1,5,5))\n",
    "data_filt = data_tx.map_blocks(medfilt)\n",
    "\n",
    "ds_xy = 4\n",
    "data_ds = coarsen(np.mean, data_filt, {2: ds_xy, 3: ds_xy})\n",
    "rechunked = data_ds.rechunk(chunks=(data_ds.shape[0], -1, -1,'auto'))\n",
    "data_dff = rechunked.map_blocks(lambda v: mydff(v, fs_im), dtype='float32')\n",
    "\n",
    "ref_range = slice(0, 10)\n",
    "ref = data_ds[ref_range].mean(0).compute(scheduler='threads')\n",
    "out_path = f'/nrs/ahrens/davis/tmp/{exp_name}_t{roi[0].start}t{roi[0].stop}.npy'"
   ]
  },
  {
   "cell_type": "code",
   "execution_count": 7,
   "metadata": {},
   "outputs": [
    {
     "data": {
      "text/html": [
       "<table style=\"border: 2px solid white;\">\n",
       "<tr>\n",
       "<td style=\"vertical-align: top; border: 0px solid white\">\n",
       "<h3>Client</h3>\n",
       "<ul>\n",
       "  <li><b>Scheduler: </b>tcp://10.36.111.11:33072\n",
       "  <li><b>Dashboard: </b><a href='http://10.36.111.11:8787/status' target='_blank'>http://10.36.111.11:8787/status</a>\n",
       "</ul>\n",
       "</td>\n",
       "<td style=\"vertical-align: top; border: 0px solid white\">\n",
       "<h3>Cluster</h3>\n",
       "<ul>\n",
       "  <li><b>Workers: </b>0</li>\n",
       "  <li><b>Cores: </b>0</li>\n",
       "  <li><b>Memory: </b>0 B</li>\n",
       "</ul>\n",
       "</td>\n",
       "</tr>\n",
       "</table>"
      ],
      "text/plain": [
       "<Client: scheduler='tcp://10.36.111.11:33072' processes=0 cores=0>"
      ]
     },
     "execution_count": 7,
     "metadata": {},
     "output_type": "execute_result"
    }
   ],
   "source": [
    "cluster = get_jobqueue_cluster()\n",
    "client = Client(cluster)\n",
    "client"
   ]
  },
  {
   "cell_type": "code",
   "execution_count": 8,
   "metadata": {},
   "outputs": [],
   "source": [
    "cluster.start_workers(300)\n",
    "result_dff = data_dff.compute()\n",
    "cluster.stop_all_jobs()"
   ]
  },
  {
   "cell_type": "code",
   "execution_count": 9,
   "metadata": {},
   "outputs": [],
   "source": [
    "np.save(out_path, result_dff)"
   ]
  },
  {
   "cell_type": "code",
   "execution_count": null,
   "metadata": {},
   "outputs": [],
   "source": [
    "result_dff = np.load(out_path)"
   ]
  },
  {
   "cell_type": "markdown",
   "metadata": {},
   "source": [
    "## Make data videos"
   ]
  },
  {
   "cell_type": "code",
   "execution_count": null,
   "metadata": {},
   "outputs": [],
   "source": [
    "result_dff.shape"
   ]
  },
  {
   "cell_type": "code",
   "execution_count": null,
   "metadata": {},
   "outputs": [],
   "source": [
    "from mpl_toolkits.axes_grid1 import make_axes_locatable\n",
    "from fish.util.plot import apply_cmap\n",
    "gammas = [.5,1]\n",
    "fs_ep = 6000\n",
    "dff_range = (.05, .8)\n",
    "t_lims = slice(100,240), slice(4450, 4491), slice(87)\n",
    "space_lims = slice(None), slice(10, -10), slice(10, -10)\n",
    "crops = [(t_, *space_lims) for t_ in t_lims]\n",
    "\n",
    "bg = [.5,.5,.5,1] * apply_cmap(gaussian_filter(ref, sigma=(0,1,1))[(*crops[0][1:],)], clim=(102, 250)) ** gammas[0]\n",
    "sample = rearrange(bg).transpose(1,0,2)\n",
    "fps = 30\n",
    "\n",
    "ddur = 30\n",
    "data_durs = [ddur, \n",
    "             ddur * (result_dff[crops[1]].shape[0] / result_dff[crops[0]].shape[0]), \n",
    "             ddur * (result_dff[crops[2]].shape[0] / result_dff[crops[0]].shape[0])]\n",
    "\n",
    "fd_big = {'fontsize' : 8, 'color' : (1, 1, 1)}\n",
    "fd_small = {'fontsize' : 4, 'color' : (1, 1, 1)}\n",
    "\n",
    "gain_conds = ('Closed loop', 'Open loop')\n",
    "#stim_conds = ('Visual stim ON', 'Visual stim OFF')\n",
    "stim_conds = ('','')\n",
    "gain_colors = ('b','y')\n",
    "stim_colors= ('w', (1,1,.6))\n",
    "ep_label = 'Fictive behavior'\n",
    "ep_window = np.arange(-14 * fs_ep, 14 * fs_ep)\n",
    "\n",
    "zlabel_x = np.linspace(0, sample.shape[1] - bg.shape[1] //2, bg.shape[0]).astype('int')\n",
    "zlabel_y = np.array([0, sample.shape[0]//2]) + 70\n",
    "zlabels = [z.astype('str') + ' µm' for z in np.arange(dset.shape[1])[roi[1]] * zstep]\n",
    "im_ar = rearrange(bg).shape[0] / rearrange(bg).shape[1]\n",
    "\n",
    "figsize=(8, 4.5)\n",
    "\n",
    "def drawf(t_, ims, ep_stuff, fig_stuff):\n",
    "    \n",
    "    im = ims['im_interp'](t_)                    \n",
    "    composite = ims['bg'] + apply_cmap(im, clim=dff_range, cmap='inferno')\n",
    "    mont = rearrange(composite).transpose(1,0,2)\n",
    "    \n",
    "    ax_im = fig_stuff['ax_im']\n",
    "    ax_ep = fig_stuff['ax_ep']\n",
    "    t_s_label = fig_stuff['t_s_label']\n",
    "    stim_label = fig_stuff['stim_label']\n",
    "    cond_label = fig_stuff['cond_label']\n",
    "    frame_interp = ep_stuff['frame_interp']\n",
    "    gain_signal = ep_stuff['gain_signal']\n",
    "    ep_window = ep_stuff['ep_window']\n",
    "    \n",
    "    try:\n",
    "        ax_im.images[0].set_data(np.roll(mont, mont.shape[0]//2, axis=0))                \n",
    "    except IndexError:\n",
    "        ax_im.imshow(np.roll(mont, mont.shape[0]//2, axis=0))                \n",
    "                    \n",
    "    t_ep = np.round(frame_interp(t_).astype('int'))\n",
    "    # make the bounding box blink at 1 fps for ~3s after open loop starts\n",
    "    gain_switched = (gain_signal[t_ep] > 0.0) and (gain_signal[t_ep + flash_dur] == 0.0)    \n",
    "    g_ind = (gain_signal[t_ep] == 0.0).astype('int')\n",
    "    \n",
    "    ep_plr = t_ep + ep_window    \n",
    "    ax_ep.lines[0].set_data(ep_window, swims[ep_plr])  \n",
    "    t_s_label.set_text(ep_label.format(t_))\n",
    "    \n",
    "    vel_ind = (stimvel[t_ep] == 0.0).astype('int')\n",
    "    stim_label.set_text(stim_conds[vel_ind])\n",
    "    stim_label.set_color(stim_colors[vel_ind])\n",
    "    \n",
    "    cond_box_label_color = gain_colors[g_ind]\n",
    "    if False:\n",
    "        cond_box_label_color=gain_colors[int(t_) // 5 % 2]    \n",
    "    cond_label.set_text(gain_conds[g_ind])\n",
    "    cond_label.set_bbox(dict(edgecolor=cond_box_label_color, facecolor='k'))\n",
    "     \n",
    "    return mplfig_to_npimage(fig_stuff['fig'])"
   ]
  },
  {
   "cell_type": "code",
   "execution_count": null,
   "metadata": {},
   "outputs": [],
   "source": [
    "flash_dur = fs_ep * 10\n",
    "title_dur = 8\n",
    "data_clips = []\n",
    "\n",
    "for ind_crop in range(len(crops)):\n",
    "    cropped=result_dff[crops[ind_crop]]\n",
    "    \n",
    "    im_interp = interp1d(np.linspace(0, data_durs[ind_crop], cropped.shape[0]), cropped, axis=0, fill_value='extrapolate')\n",
    "    frame_interp = interp1d(np.linspace(0, data_durs[ind_crop], frame[roi[0]][crops[ind_crop][0]].shape[0]), frame[roi[0]][crops[ind_crop][0]], fill_value='extrapolate')\n",
    "    data_playback_scale = (cropped.shape[0] / fs_im) / data_durs[ind_crop]\n",
    "\n",
    "    im_label_x = -105\n",
    "    fig_mov = plt.figure(dpi=200, figsize=figsize, facecolor='k')\n",
    "    gsp = gs.GridSpec(10,10)\n",
    "    ax_im = fig_mov.add_subplot(gsp[:-1,:])\n",
    "    ax_im.imshow(np.random.randn(*sample.shape[:-1]), cmap='inferno', clim=dff_range)\n",
    "    ax_im_pos = ax_im.get_position()\n",
    "    ax_im.axis('off')\n",
    "\n",
    "    ax_ep = fig_mov.add_subplot(gsp[-1,:])\n",
    "    ax_ep.set_facecolor('k')\n",
    "    ax_cbar = fig_mov.add_axes((ax_im_pos.xmax + .05, ax_im_pos.ymin, .01, ax_im_pos.height/2))\n",
    "    cbar = plt.colorbar(ax_im.images[0], cax = ax_cbar)\n",
    "    ax_cbar.text(.5, 1.05, '\\u0394f/f', transform=ax_cbar.transAxes, fontdict={'fontsize' : 6, 'color' : (1, 1, 1)})\n",
    "\n",
    "    ax_cbar.set_facecolor('k')\n",
    "    ax_cbar.tick_params(labelcolor='w', labelsize=5)\n",
    "\n",
    "    fig_mov.subplots_adjust(hspace=0)\n",
    "\n",
    "    timing_label = dict(x = 0, y = .37, s=f'{data_playback_scale:.1f}X playback speed',transform=ax_ep.transAxes, fontdict=dict(color='w', size=8))\n",
    "    [ax_im.text(x, y, zlabels[ind], fontdict=fd_small) for y in zlabel_y for ind, x in enumerate(zlabel_x)]\n",
    "    ax_im.text(im_label_x, sample.shape[0] //2, 'Radial astrocytes', fontdict=fd_big)\n",
    "    ax_im.text(im_label_x, 0, 'Neurons', fontdict=fd_big)\n",
    "    ax_ep.text(**timing_label)\n",
    "    ax_ep.plot()\n",
    "    ax_ep.set_ylim(swims.min(), swims.max() / 3)\n",
    "\n",
    "    t_s_label = ax_ep.text(0, .75, ep_label.format(0), transform=ax_ep.transAxes, fontdict=fd_big)\n",
    "    t_ep = np.where(cam == 0 + roi[0].start)[0][0]\n",
    "\n",
    "    ep_plr = t_ep + ep_window    \n",
    "    ax_ep.plot(ep_window, swims[ep_plr], color='w', linewidth=.5)\n",
    "    ax_ep.axvline(0, color='y')\n",
    "\n",
    "    cond_label = ax_ep.text(.25, \n",
    "                            .5, \n",
    "                            gain_conds[(gain_signal[t_ep] == 0.0).astype('int')], \n",
    "                            transform=ax_ep.transAxes, \n",
    "                            fontdict=fd_big, \n",
    "                            bbox=dict(edgecolor=gain_colors[(gain_signal[t_ep] == 0.0).astype('int')], facecolor='k'))\n",
    "\n",
    "    stim_label = ax_ep.text(.55, \n",
    "                            .5, \n",
    "                            stim_conds[(stimvel[t_ep] == 0.0).astype('int')], \n",
    "                            transform=ax_ep.transAxes, \n",
    "                            fontdict={'fontsize' : 8, 'color' : 'w', 'weight' : 'bold'})\n",
    "\n",
    "    ims = {'bg': bg, 'im_interp' : im_interp}\n",
    "    ep_stuff = {'frame_interp' : frame_interp, \n",
    "                'gain_signal' : gain_signal, \n",
    "                'ep_window' : ep_window, \n",
    "                'flash_dur' : flash_dur,\n",
    "                'stimvel' : stimvel}\n",
    "\n",
    "    fig_stuff = {'fig' : fig_mov, \n",
    "                 'ax_im' : ax_im, \n",
    "                 'ax_ep' : ax_ep, \n",
    "                 'cond_label' : cond_label, \n",
    "                 'stim_label' : stim_label, \n",
    "                 't_s_label' : t_s_label}\n",
    "\n",
    "    data_clips.append(VideoClip(partial(drawf, ims=ims, ep_stuff=ep_stuff, fig_stuff=fig_stuff), duration=data_durs[ind_crop]))"
   ]
  },
  {
   "cell_type": "code",
   "execution_count": null,
   "metadata": {},
   "outputs": [],
   "source": [
    "intro_texts = (r'''Video S1a\n",
    "\n",
    "Whole-brain imaging during futility induced passivity.\n",
    "Passivity is triggered by a lack of feedback during swimming.\n",
    "Radial astrocyte calcium levels increase prior to and during passivity.\n",
    "''',\n",
    "r'''Video S1b\n",
    "\n",
    "An instance of futility-induced passivity after 40 minutes of open loop.\n",
    "Glial calcium responses are weaker and more localized to L-MO.\n",
    "''',\n",
    "r'''Video S1c\n",
    "\n",
    "Whole-brain imaging in a closed loop protocol, for comparison with S1a.\n",
    "Protocol contains stimulus ON and stimulus OFF periods.\n",
    "Behavioral pauses occur during stimulus OFF.\n",
    "Stimulus-induced behavioral pauses are not accompanied by glial\n",
    "calcium increases.\n",
    "''',)"
   ]
  },
  {
   "cell_type": "code",
   "execution_count": null,
   "metadata": {},
   "outputs": [],
   "source": [
    "num_intros = 3\n",
    "title_clips = []\n",
    "fig_intros = []\n",
    "ax_intros = []\n",
    "fade_inds = []\n",
    "title_funs = []\n",
    "intro_pos = ((.15,.9), (.15, .6), (.15, .34))\n",
    "fd_title_slide = dict(color='w', size=13)\n",
    "\n",
    "fade_coeffs = [1,.5,.5,.5]\n",
    "color_fade = interp1d(np.linspace(0, title_dur, len(fade_coeffs)), fade_coeffs)\n",
    "\n",
    "for r in range(num_intros):\n",
    "    fi = list(range(num_intros))\n",
    "    fi.pop(r)\n",
    "    fade_inds.append(fi)\n",
    "    \n",
    "def drawf_intro(t_, fig, ax, fade_inds):\n",
    "    for ind in fade_inds:\n",
    "        ax.texts[ind].set_color(3 * [0 + color_fade(t_)])\n",
    "    return mplfig_to_npimage(fig)\n",
    "\n",
    "def drawf_intro_ns(t_, figsize, intro_pos, intro_texts, fd_title_slide, fade_inds, color_fade):\n",
    "    fig = plt.figure(dpi=200, figsize=figsize, facecolor='k')\n",
    "    ax = fig.add_axes((0,0,1,1), facecolor='k')\n",
    "    for r in range(len(intro_texts)):\n",
    "        ax.text(*intro_pos[r],\n",
    "                      intro_texts[r], \n",
    "                      fontdict=fd_title_slide, \n",
    "                      transform=ax.transAxes,            \n",
    "                      ha = 'left',\n",
    "                      va='top',\n",
    "                      multialignment='left')\n",
    "    for ind in fade_inds:\n",
    "        ax.texts[ind].set_color(3 * [0 + color_fade(t_)])\n",
    "    return mplfig_to_npimage(fig)\n",
    "    \n",
    "for r in range(num_intros):\n",
    "    fig_intros.append(plt.figure(dpi=200, figsize=figsize, facecolor='k'))\n",
    "    ax_intros.append(fig_intros[-1].add_axes((0,0,1,1), facecolor='k'))\n",
    "\n",
    "    ax_intros[-1].text(*intro_pos[0],\n",
    "                  intro_texts[0], \n",
    "                  fontdict=fd_title_slide, \n",
    "                  transform=ax_intros[-1].transAxes,            \n",
    "                  ha = 'left',\n",
    "                  va='top',\n",
    "                  multialignment='left')\n",
    "\n",
    "    ax_intros[-1].text(*intro_pos[1],\n",
    "                  intro_texts[1], \n",
    "                  fontdict=fd_title_slide, \n",
    "                  transform=ax_intros[-1].transAxes,            \n",
    "                  ha = 'left',\n",
    "                  va='top',\n",
    "                  multialignment='left')\n",
    "\n",
    "    ax_intros[-1].text(*intro_pos[2],\n",
    "                  intro_texts[2], \n",
    "                  fontdict=fd_title_slide, \n",
    "                  transform=ax_intros[-1].transAxes,            \n",
    "                  ha = 'left',\n",
    "                  va='top',\n",
    "                  multialignment='left')\n",
    "    title_funs.append(partial(drawf_intro, fig=fig_intros[-1], ax=ax_intros[-1], fade_inds=fade_inds[r]))\n",
    "        \n",
    "    title_clips.append(VideoClip(title_funs[r], duration=title_dur))\n",
    "#from functools import partial\n",
    "#parfs = []\n",
    "#for r in range(len(intro_texts)):\n",
    "#    parfs.append(partial(drawf_intro_ns, \n",
    "#                    figsize=figsize, \n",
    "#                    intro_pos=intro_pos, \n",
    "#                    intro_texts=intro_texts, \n",
    "#                    fd_title_slide=fd_title_slide, \n",
    "#                    fade_inds = fade_inds[r], \n",
    "#                    color_fade=color_fade))\n",
    "#title_clips = [VideoClip(parfs[r], duration=title_dur) for r in range(len(intro_texts))];"
   ]
  },
  {
   "cell_type": "code",
   "execution_count": null,
   "metadata": {},
   "outputs": [],
   "source": [
    "fig, axs = plt.subplots(ncols=len(title_clips), dpi=200)\n",
    "[axs[ind].imshow(title_clips[ind].get_frame(3)) for ind in range(len(title_clips))]"
   ]
  },
  {
   "cell_type": "code",
   "execution_count": null,
   "metadata": {},
   "outputs": [],
   "source": [
    "codec = 'h264'\n",
    "vid_fname = f'/nrs/ahrens/davis/tmp/{exp_name}_t{roi[0].start}t{roi[0].stop}_dur{data_durs[0]}.mp4'\n",
    "ind = 0\n",
    "\n",
    "composite_clip = concatenate_videoclips([title_clips[0], data_clips[0], \n",
    "                                         title_clips[1], data_clips[1],\n",
    "                                         title_clips[2], data_clips[2]], method='compose')\n",
    "composite_clip.write_videofile(vid_fname, audio=False, codec=codec, fps=fps, ffmpeg_params=['-pix_fmt', 'yuv420p'])\n",
    "\n",
    "shutil.copyfile(vid_fname, '/groups/ahrens/ahrenslab/projects/ngm/presentation/movies/Video_S1.mp4')"
   ]
  },
  {
   "cell_type": "code",
   "execution_count": null,
   "metadata": {},
   "outputs": [],
   "source": [
    "from moviepy.editor import VideoFileClip\n",
    "VideoFileClip(vid_fname).ipython_display(maxduration=100)"
   ]
  },
  {
   "cell_type": "code",
   "execution_count": null,
   "metadata": {},
   "outputs": [],
   "source": []
  },
  {
   "cell_type": "code",
   "execution_count": null,
   "metadata": {},
   "outputs": [],
   "source": []
  }
 ],
 "metadata": {
  "kernelspec": {
   "display_name": "Python 3",
   "language": "python",
   "name": "python3"
  },
  "language_info": {
   "codemirror_mode": {
    "name": "ipython",
    "version": 3
   },
   "file_extension": ".py",
   "mimetype": "text/x-python",
   "name": "python",
   "nbconvert_exporter": "python",
   "pygments_lexer": "ipython3",
   "version": "3.6.7"
  }
 },
 "nbformat": 4,
 "nbformat_minor": 2
}
