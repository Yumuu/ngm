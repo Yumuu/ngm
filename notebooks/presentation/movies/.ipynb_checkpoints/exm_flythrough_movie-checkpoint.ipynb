{
 "cells": [
  {
   "cell_type": "code",
   "execution_count": 1,
   "metadata": {},
   "outputs": [
    {
     "name": "stdout",
     "output_type": "stream",
     "text": [
      "Starting flika\n"
     ]
    },
    {
     "data": {
      "text/plain": [
       "<flika.app.application.FlikaApplication at 0x2ab1ac88cdc8>"
      ]
     },
     "execution_count": 1,
     "metadata": {},
     "output_type": "execute_result"
    },
    {
     "name": "stdout",
     "output_type": "stream",
     "text": [
      "Starting flika inside IPython\n"
     ]
    }
   ],
   "source": [
    "%matplotlib inline\n",
    "import matplotlib\n",
    "matplotlib.rc('font', family='arial') \n",
    "import matplotlib.pyplot as plt\n",
    "import numpy as np\n",
    "import flika as flk\n",
    "from skimage.exposure import rescale_intensity as rescale\n",
    "from moviepy.editor import ImageSequenceClip, VideoClip, concatenate_videoclips\n",
    "from moviepy.video.io.bindings import mplfig_to_npimage\n",
    "from matplotlib.patches import Rectangle\n",
    "from scipy.interpolate import interp1d\n",
    "import czifile as czi\n",
    "flk.start_flika()"
   ]
  },
  {
   "cell_type": "code",
   "execution_count": null,
   "metadata": {},
   "outputs": [],
   "source": [
    "fname = '/nrs/ahrens/Yu/expansion/large tile.czi'\n",
    "# lateral extent of the field of view, in microns\n",
    "fov = 1100\n",
    "data_r = czi.imread(fname).squeeze().astype('float32')\n",
    "bg = data_r.min(1)\n",
    "data_r = (data_r.transpose(1,0,2,3) - bg).transpose(1,0,2,3)\n",
    "# channel 0 is NE, 1 is glia\n",
    "data_c = np.zeros([*data_r.shape[1:], 3], dtype='float32')\n",
    "\n",
    "# rescale the data and make RGB \n",
    "ne_in_range = (10,300)\n",
    "g_in_range=(10,8000)\n",
    "data_c[:,:,:,0] = rescale(data_r[0].astype('float32'), in_range=ne_in_range, out_range=(0,1))\n",
    "data_c[:,:,:,1] = rescale(data_r[1].astype('float32'), in_range=g_in_range, out_range=(0,1))\n",
    "data_c[:,:,:,2] = rescale(data_r[0].astype('float32'), in_range=ne_in_range, out_range=(0,1))"
   ]
  },
  {
   "cell_type": "code",
   "execution_count": null,
   "metadata": {},
   "outputs": [],
   "source": [
    "fps = 24\n",
    "figsize = (8, 4.5)\n",
    "fd_small = {'fontsize' : 8, 'color' : 'w'}"
   ]
  },
  {
   "cell_type": "code",
   "execution_count": null,
   "metadata": {},
   "outputs": [],
   "source": [
    "plr = slice(15, 320)\n",
    "data_dur = 10\n",
    "interper = interp1d(x=np.linspace(0, data_dur, len(data_c[plr])), y=data_c[plr], axis=0, bounds_error='extrapolate')\n",
    "\n",
    "fig, axs = plt.subplots(dpi=200, figsize=figsize, facecolor='k')\n",
    "axs.set_facecolor('k')\n",
    "axs.axis('off')\n",
    "axs.set_position([.1,.1,.9,.9])\n",
    "\n",
    "#length of scale bar, in microns\n",
    "scale_bar_length = 100\n",
    "\n",
    "scale_label = dict(x = .01, y=.04, s='100 µm', transform=axs.transAxes, fontdict=dict(color=(1,1,1), size=8))\n",
    "scale_bar = Rectangle((.01,.02), scale_bar_length/fov, .01, transform = axs.transAxes, facecolor='w')\n",
    "\n",
    "tdt_label = dict(x = .01, y=-.08, s='NE cells: $\\it{Tg(net}$:$\\it{tdTomato)}$', transform=axs.transAxes, fontdict=dict(color=(1,0,1), size=8))\n",
    "gcamp_label = dict(x = .01, y=-.04, s='Radial astrocytes: $\\it{Tg(gfap}$:$\\it{CoChR}$-$\\it{eGFP)}$', transform=axs.transAxes, fontdict=dict(color=(0,1,0), size=8))\n",
    "\n",
    "axs.add_patch(scale_bar)\n",
    "axs.text(**scale_label)\n",
    "axs.text(**tdt_label)\n",
    "axs.text(**gcamp_label)\n",
    "axs.imshow(interper(0))\n",
    "\n",
    "def draw_frame(t_):\n",
    "    axs.images[0].set_data(interper(t_))\n",
    "    return mplfig_to_npimage(fig)"
   ]
  },
  {
   "cell_type": "code",
   "execution_count": null,
   "metadata": {},
   "outputs": [],
   "source": [
    "## make the title card \n",
    "title_dur = 4\n",
    "fig_intro = plt.figure(dpi=200, figsize=np.array(figsize), facecolor='k')\n",
    "ax_intro = fig_intro.add_axes((0,0,1,1))\n",
    "ax_intro.set_facecolor('k')\n",
    "\n",
    "s8a_intro_text =r'''Video S8a:\n",
    "\n",
    "Dual-color volumetric imaging in \n",
    "$\\it{Tg(th1}$:$\\it{gal4}$, $\\it{UAS}$:$\\it{GCaMP6s}$), $\\it{Tg(gfap}$:$\\it{jRGECO1b)}$\n",
    "fish showing NE-MO activity prior to astrocytic calcium surges.   \n",
    "'''\n",
    "\n",
    "s8b_intro_text =r'''Video S8b:\n",
    "\n",
    "4X expansion microscopy shows noradrenergic cells \n",
    "projecting to the lateral hindbrain, where they intertwine \n",
    "with astrocytic processes.                         \n",
    "'''\n",
    "\n",
    "color_fade = interp1d([0,1,2,3], [1,.75,.5,.5], fill_value='extrapolate')\n",
    "            \n",
    "s8a_intro = ax_intro.text(.15,\n",
    "                  .8,\n",
    "                  s8a_intro_text, \n",
    "                  fontdict=dict(color='w', size=16), \n",
    "                  transform=ax_intro.transAxes, \n",
    "                  ha = 'left',\n",
    "                  va='top',\n",
    "                  multialignment='left')\n",
    "\n",
    "s8b_intro = ax_intro.text(.15,\n",
    "                  .4,\n",
    "                  s8b_intro_text, \n",
    "                  fontdict=dict(color='w', size=16), \n",
    "                  transform=ax_intro.transAxes, \n",
    "                  ha = 'left',\n",
    "                  va='top',\n",
    "                  multialignment='left')\n",
    "\n",
    "def drawf_intro(t_):\n",
    "    s8a_intro.set_color(3 * [0 + color_fade(t_)])\n",
    "    return mplfig_to_npimage(fig_intro)\n",
    "\n",
    "title_clip = VideoClip(drawf_intro, duration=title_dur)"
   ]
  },
  {
   "cell_type": "code",
   "execution_count": null,
   "metadata": {},
   "outputs": [],
   "source": [
    "_,_  = plt.subplots(figsize=(12,12))\n",
    "plt.imshow(drawf_intro(0))"
   ]
  },
  {
   "cell_type": "code",
   "execution_count": null,
   "metadata": {},
   "outputs": [],
   "source": [
    "data_clip = VideoClip(draw_frame, duration=data_dur)\n",
    "\n",
    "codec = 'h264'\n",
    "vid_fname = f'/groups/ahrens/ahrenslab/projects/ngm/presentation/movies/Video_S8b.mp4'\n",
    "ind = 0 \n",
    "\n",
    "composite_clip = concatenate_videoclips([title_clip, data_clip])\n",
    "composite_clip.write_videofile(vid_fname, audio=False, codec=codec, fps=fps, ffmpeg_params=['-pix_fmt', 'yuv420p'])"
   ]
  },
  {
   "cell_type": "code",
   "execution_count": null,
   "metadata": {},
   "outputs": [],
   "source": []
  }
 ],
 "metadata": {
  "kernelspec": {
   "display_name": "Python 3",
   "language": "python",
   "name": "python3"
  },
  "language_info": {
   "codemirror_mode": {
    "name": "ipython",
    "version": 3
   },
   "file_extension": ".py",
   "mimetype": "text/x-python",
   "name": "python",
   "nbconvert_exporter": "python",
   "pygments_lexer": "ipython3",
   "version": "3.6.7"
  }
 },
 "nbformat": 4,
 "nbformat_minor": 2
}
