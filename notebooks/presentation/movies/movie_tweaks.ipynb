{
 "cells": [
  {
   "cell_type": "markdown",
   "metadata": {},
   "source": [
    "## merge movies"
   ]
  },
  {
   "cell_type": "code",
   "execution_count": 1,
   "metadata": {},
   "outputs": [
    {
     "name": "stderr",
     "output_type": "stream",
     "text": [
      "t:   1%|          | 10/1380 [00:00<00:14, 93.58it/s, now=None]"
     ]
    },
    {
     "name": "stdout",
     "output_type": "stream",
     "text": [
      "Moviepy - Building video /groups/ahrens/ahrenslab/projects/ngm/presentation/movies/Video_S5_composite.mp4.\n",
      "Moviepy - Writing video /groups/ahrens/ahrenslab/projects/ngm/presentation/movies/Video_S5_composite.mp4\n",
      "\n"
     ]
    },
    {
     "name": "stderr",
     "output_type": "stream",
     "text": []
    },
    {
     "name": "stdout",
     "output_type": "stream",
     "text": [
      "Moviepy - Done !\n",
      "Moviepy - video ready /groups/ahrens/ahrenslab/projects/ngm/presentation/movies/Video_S5_composite.mp4\n"
     ]
    }
   ],
   "source": [
    "from moviepy.editor import VideoFileClip, concatenate_videoclips\n",
    "mov_number = 5\n",
    "pre = VideoFileClip(f'/groups/ahrens/ahrenslab/projects/ngm/presentation/movies/Video_S{mov_number}a.mp4')\n",
    "post=VideoFileClip(f'/groups/ahrens/ahrenslab/projects/ngm/presentation/movies/Video_S{mov_number}b.mp4')\n",
    "composite = concatenate_videoclips([pre, post])\n",
    "vid_fname = f'/groups/ahrens/ahrenslab/projects/ngm/presentation/movies/Video_S{mov_number}_composite.mp4'\n",
    "composite.write_videofile(vid_fname, audio=False, codec='h264', ffmpeg_params=['-pix_fmt', 'yuv420p'])"
   ]
  },
  {
   "cell_type": "markdown",
   "metadata": {},
   "source": [
    "## save movie at a different frame rate"
   ]
  },
  {
   "cell_type": "code",
   "execution_count": null,
   "metadata": {},
   "outputs": [],
   "source": []
  }
 ],
 "metadata": {
  "kernelspec": {
   "display_name": "Python 3",
   "language": "python",
   "name": "python3"
  },
  "language_info": {
   "codemirror_mode": {
    "name": "ipython",
    "version": 3
   },
   "file_extension": ".py",
   "mimetype": "text/x-python",
   "name": "python",
   "nbconvert_exporter": "python",
   "pygments_lexer": "ipython3",
   "version": "3.6.7"
  }
 },
 "nbformat": 4,
 "nbformat_minor": 2
}
