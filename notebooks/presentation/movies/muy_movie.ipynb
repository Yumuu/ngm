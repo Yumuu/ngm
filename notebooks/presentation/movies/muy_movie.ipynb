{
 "cells": [
  {
   "cell_type": "code",
   "execution_count": 1,
   "metadata": {},
   "outputs": [
    {
     "name": "stdout",
     "output_type": "stream",
     "text": [
      "Starting flika\n",
      "Starting flika inside IPython\n"
     ]
    }
   ],
   "source": [
    "import numpy as np\n",
    "import matplotlib.pyplot as plt\n",
    "%matplotlib inline\n",
    "import dask.array as da\n",
    "from distributed import Client\n",
    "from fish.image.zds import ZDS\n",
    "from os import makedirs\n",
    "from os.path import exists\n",
    "from functools import partial\n",
    "from scipy.ndimage.filters import median_filter\n",
    "from fish.util.distributed import get_jobqueue_cluster\n",
    "from dask.array import coarsen\n",
    "from skimage.io import imsave\n",
    "import time\n",
    "from scipy.interpolate import interp1d\n",
    "\n",
    "import flika as flk\n",
    "flk.start_flika()\n",
    "from flika.window import Window as flw"
   ]
  },
  {
   "cell_type": "code",
   "execution_count": 2,
   "metadata": {},
   "outputs": [],
   "source": [
    "base_dirs = ('/nrs/ahrens/Yu/SPIM/20181014/fish1/20181014_1_2_doublehead_hucgc_gfaprgeco_6dpf_CLOnOff_20181014_130452/',\n",
    "            '/nrs/ahrens/Yu/SPIM/20181014/fish1/20181014_1_2_doublehead_hucgc_gfaprgeco_6dpf_CLOnOff_20181014_130452/')"
   ]
  },
  {
   "cell_type": "code",
   "execution_count": 3,
   "metadata": {},
   "outputs": [
    {
     "name": "stdout",
     "output_type": "stream",
     "text": [
      "/nrs/ahrens/Yu/SPIM/20181014/fish1/20181014_1_2_doublehead_hucgc_gfaprgeco_6dpf_CLOnOff_20181014_130452/\n"
     ]
    },
    {
     "data": {
      "text/plain": [
       "(801, 35, 2048, 2048)"
      ]
     },
     "execution_count": 3,
     "metadata": {},
     "output_type": "execute_result"
    }
   ],
   "source": [
    "base_dir = base_dirs[0]\n",
    "print(base_dir)\n",
    "single_plane = False\n",
    "dset = ZDS(base_dir + 'raw/', single_plane=single_plane)\n",
    "data = dset.data\n",
    "result = None\n",
    "data.shape"
   ]
  },
  {
   "cell_type": "code",
   "execution_count": 6,
   "metadata": {},
   "outputs": [],
   "source": [
    "exp_name = base_dir.split('/')[-2]\n",
    "reg_dir = f'/groups/ahrens/ahrenslab/davis/tmp/{exp_name}/'\n",
    "ds_xy = 2\n",
    "dff_movie_fname = f'{reg_dir}{exp_name}_dff_ds{ds_xy}.tif'\n",
    "if not exists(reg_dir):\n",
    "    makedirs(reg_dir)\n",
    "reg_path = reg_dir + 'regparams_affine.npy'\n",
    "anat_ref_fname = reg_dir + 'anat_ref.tif'\n",
    "fs_im = dset.metadata['volume_rate']\n",
    "\n",
    "roi = slice(100,800), slice(11, None), slice(None), slice(None)\n",
    "\n",
    "if single_plane:\n",
    "    fs_im *= dset.metadata['dimensions'][-1]\n",
    "try:\n",
    "    shifts = -np.load(reg_path)[:,:-1,-1]\n",
    "except FileNotFoundError:\n",
    "    print('affines not found, registration needs to be done')\n",
    "    shifts = None\n",
    "    data_filt = data.astype('float32').map_blocks(lambda v: median_filter(v, (1,1,5,5)), dtype='float32')\n",
    "    mp = data.shape[0] // 2\n",
    "    anat_ref = data_filt[slice(mp-5,mp+5)].mean(0).compute(scheduler='threads').astype('float32')\n",
    "    imsave(anat_ref_fname, anat_ref)"
   ]
  },
  {
   "cell_type": "code",
   "execution_count": 7,
   "metadata": {},
   "outputs": [],
   "source": [
    "def mydff(v):\n",
    "    from fish.image.vol import dff\n",
    "    camera_offset = 80\n",
    "    window = 60 * fs_im\n",
    "    percentile = 20\n",
    "    offset = 10    \n",
    "    downsample = 10;\n",
    "    return dff((v - camera_offset).clip(1, None), window, percentile, offset, downsample, axis=0).astype('float32')\n",
    "\n",
    "def reg(fixed, moving):\n",
    "    from fish.image.alignment import estimate_translation\n",
    "    from numpy import expand_dims\n",
    "    affs =  estimate_translation(fixed.squeeze(), moving.squeeze()).affine\n",
    "    return expand_dims(affs, 0)\n",
    "\n",
    "def shift_yx(im, shifts, block_id):\n",
    "    from scipy.ndimage.interpolation import shift\n",
    "    t = block_id[0]    \n",
    "    return shift(im.astype('float32'), (0,0, *shifts[t]), order=1, cval=100)"
   ]
  },
  {
   "cell_type": "code",
   "execution_count": 6,
   "metadata": {},
   "outputs": [
    {
     "data": {
      "text/html": [
       "<table style=\"border: 2px solid white;\">\n",
       "<tr>\n",
       "<td style=\"vertical-align: top; border: 0px solid white\">\n",
       "<h3>Client</h3>\n",
       "<ul>\n",
       "  <li><b>Scheduler: </b>tcp://10.36.111.12:42582\n",
       "  <li><b>Dashboard: </b><a href='http://10.36.111.12:8787/status' target='_blank'>http://10.36.111.12:8787/status</a>\n",
       "</ul>\n",
       "</td>\n",
       "<td style=\"vertical-align: top; border: 0px solid white\">\n",
       "<h3>Cluster</h3>\n",
       "<ul>\n",
       "  <li><b>Workers: </b>0</li>\n",
       "  <li><b>Cores: </b>0</li>\n",
       "  <li><b>Memory: </b>0 B</li>\n",
       "</ul>\n",
       "</td>\n",
       "</tr>\n",
       "</table>"
      ],
      "text/plain": [
       "<Client: scheduler='tcp://10.36.111.12:42582' processes=0 cores=0>"
      ]
     },
     "execution_count": 6,
     "metadata": {},
     "output_type": "execute_result"
    }
   ],
   "source": [
    "cluster = get_jobqueue_cluster()\n",
    "client = Client(cluster)\n",
    "client"
   ]
  },
  {
   "cell_type": "code",
   "execution_count": 7,
   "metadata": {},
   "outputs": [],
   "source": [
    "if shifts is None:\n",
    "    reg_roi = (slice(None), slice(None), slice(None), slice(None))\n",
    "    fig, axs = plt.subplots(ncols=2, figsize=(12,12))\n",
    "    axs[0].imshow(anat_ref.max(0).squeeze(), clim=(100,200))\n",
    "    axs[1].imshow(anat_ref[reg_roi[1:]].max(0).squeeze(), clim=(100,200))"
   ]
  },
  {
   "cell_type": "code",
   "execution_count": 8,
   "metadata": {},
   "outputs": [
    {
     "name": "stdout",
     "output_type": "stream",
     "text": [
      "CPU times: user 0 ns, sys: 5 µs, total: 5 µs\n",
      "Wall time: 8.34 µs\n"
     ]
    }
   ],
   "source": [
    "%%time\n",
    "if shifts is None:\n",
    "    cluster.start_workers(300)\n",
    "    ref_mx_bc = client.scatter(anat_ref[reg_roi[1:]].max(0), broadcast=True)\n",
    "    data_filt = data[reg_roi].astype('float32').map_blocks(lambda v: median_filter(v, (1,1,5,5)), dtype='float32')\n",
    "    if data_filt.shape[0] > 20000:\n",
    "        ds_t = 4\n",
    "        full_t = np.arange(data_filt.shape[0])\n",
    "        affines_ds = da.map_blocks(reg, ref_mx_bc, data_filt[::ds_t].max(1), dtype='float32', chunks=(1,2,2)).compute()\n",
    "        interper = interp1d(full_t[::ds_t], affines_ds, axis=0, bounds_error=False)\n",
    "        affines = interper(full_t)        \n",
    "    else:\n",
    "        affines = da.map_blocks(reg, ref_mx_bc, data_filt.max(1), dtype='float32', chunks=(1,2,2)).compute()    \n",
    "    np.save(reg_path, affines)\n",
    "    shifts = -affines[:,:-1,-1]\n",
    "    cluster.stop_all_jobs()"
   ]
  },
  {
   "cell_type": "code",
   "execution_count": 9,
   "metadata": {},
   "outputs": [
    {
     "data": {
      "text/plain": [
       "Text(0, 0.5, 'Translation (um)')"
      ]
     },
     "execution_count": 9,
     "metadata": {},
     "output_type": "execute_result"
    },
    {
     "data": {
      "image/png": "[encoded data removed]",
      "text/plain": [
       "<Figure size 864x288 with 1 Axes>"
      ]
     },
     "metadata": {
      "needs_background": "light"
     },
     "output_type": "display_data"
    }
   ],
   "source": [
    "fig, axs = plt.subplots(figsize=(12,4))\n",
    "um_per_pix = .40625\n",
    "axs.plot(shifts * um_per_pix)\n",
    "shifts_filt = median_filter(shifts, size=(150,1))\n",
    "axs.plot(shifts_filt * um_per_pix)\n",
    "axs.legend(axs.lines[2:], ['dy','dx'])\n",
    "axs.set_ylabel('Translation (um)')"
   ]
  },
  {
   "cell_type": "code",
   "execution_count": 10,
   "metadata": {},
   "outputs": [
    {
     "name": "stdout",
     "output_type": "stream",
     "text": [
      "CPU times: user 694 ms, sys: 139 ms, total: 833 ms\n",
      "Wall time: 11 s\n"
     ]
    }
   ],
   "source": [
    "%%time\n",
    "cluster.start_workers(10)\n",
    "time.sleep(10)\n",
    "shifts_filt_bc = client.scatter(shifts_filt[roi[0]])\n",
    "medfilt = partial(median_filter, size=(1,1,3,3))\n",
    "data_filt = data[roi].astype('float32').map_blocks(medfilt, dtype='float32')\n",
    "data_tx = data_filt.map_blocks(shift_yx, shifts_filt_bc, dtype='float32')\n",
    "\n",
    "data_ds = coarsen(np.mean, data_tx, {2: ds_xy, 3: ds_xy})\n",
    "rechunked = data_ds.rechunk(chunks=(data_ds.shape[0], 'auto', 'auto','auto'))\n",
    "data_dff = rechunked.map_blocks(mydff, dtype='float32')"
   ]
  },
  {
   "cell_type": "code",
   "execution_count": 11,
   "metadata": {},
   "outputs": [
    {
     "name": "stdout",
     "output_type": "stream",
     "text": [
      "CPU times: user 4min 27s, sys: 5min 2s, total: 9min 29s\n",
      "Wall time: 11min 13s\n"
     ]
    }
   ],
   "source": [
    "%%time\n",
    "cluster.start_workers(100)\n",
    "result = data_dff.compute().squeeze()\n",
    "time.sleep(10)\n",
    "cluster.stop_all_jobs()"
   ]
  },
  {
   "cell_type": "code",
   "execution_count": 12,
   "metadata": {},
   "outputs": [
    {
     "data": {
      "text/plain": [
       "'/groups/ahrens/ahrenslab/davis/tmp/20181014_1_2_doublehead_hucgc_gfaprgeco_6dpf_CLOnOff_20181014_130452/20181014_1_2_doublehead_hucgc_gfaprgeco_6dpf_CLOnOff_20181014_130452_dff_ds2.tif'"
      ]
     },
     "execution_count": 12,
     "metadata": {},
     "output_type": "execute_result"
    }
   ],
   "source": [
    "dff_movie_fname"
   ]
  },
  {
   "cell_type": "code",
   "execution_count": 13,
   "metadata": {},
   "outputs": [
    {
     "name": "stdout",
     "output_type": "stream",
     "text": [
      "CPU times: user 4min, sys: 1min 34s, total: 5min 34s\n",
      "Wall time: 4min 55s\n"
     ]
    },
    {
     "name": "stderr",
     "output_type": "stream",
     "text": [
      "/groups/ahrens/home/bennettd/anaconda3/lib/python3.6/site-packages/skimage/external/tifffile/tifffile.py:1088: UserWarning: truncating ImageJ file\n",
      "  warnings.warn(\"truncating ImageJ file\")\n"
     ]
    }
   ],
   "source": [
    "%%time\n",
    "imsave(dff_movie_fname, result, imagej=True)"
   ]
  },
  {
   "cell_type": "code",
   "execution_count": 19,
   "metadata": {},
   "outputs": [],
   "source": [
    "from fish.util.plot import nparray_to_video, apply_cmap\n",
    "from skimage.io import imread\n",
    "from skimage.transform import downscale_local_mean\n",
    "from moviepy.editor import ImageSequenceClip, VideoClip, concatenate_videoclips\n",
    "from moviepy.video.io.bindings import mplfig_to_npimage\n",
    "from scipy.interpolate import interp1d"
   ]
  },
  {
   "cell_type": "code",
   "execution_count": null,
   "metadata": {},
   "outputs": [],
   "source": [
    "dff = imread(dff_movie_fname)\n",
    "anat_ref = downscale_local_mean(imread(anat_ref_fname)[roi[1:]], factors=(1,ds_xy, ds_xy))\n",
    "anat_ref.shape"
   ]
  },
  {
   "cell_type": "code",
   "execution_count": 25,
   "metadata": {},
   "outputs": [
    {
     "data": {
      "text/plain": [
       "(1024, 1024, 4)"
      ]
     },
     "execution_count": 25,
     "metadata": {},
     "output_type": "execute_result"
    }
   ],
   "source": [
    "apply_cmap(anat_ref.max(0).clip(90,380))"
   ]
  },
  {
   "cell_type": "code",
   "execution_count": 47,
   "metadata": {},
   "outputs": [],
   "source": [
    "sample = apply_cmap(dff[0].max(0))\n",
    "composite_rgb = np.zeros((len(dff), *sample.shape), dtype=sample.dtype)\n",
    "anat_rgb = apply_cmap(anat_ref.max(0).clip(90,380))\n",
    "\n",
    "for t in range(composite_rgb.shape[0]): \n",
    "    dff_rgb = apply_cmap(dff[t].max(0).clip(.09, 1), cmap='inferno')\n",
    "    composite_rgb[t] = (dff_rgb.astype('float') + anat_rgb.astype('float')).clip(0,255).astype('uint8')"
   ]
  },
  {
   "cell_type": "code",
   "execution_count": 54,
   "metadata": {},
   "outputs": [],
   "source": [
    "clippy = ImageSequenceClip(sequence = list(composite_rgb), fps=30)\n",
    "clippy.write_videofile('/groups/ahrens/ahrenslab/davis/tmp/tmp.mp4')"
   ]
  },
  {
   "cell_type": "code",
   "execution_count": null,
   "metadata": {},
   "outputs": [],
   "source": []
  }
 ],
 "metadata": {
  "kernelspec": {
   "display_name": "Python 3",
   "language": "python",
   "name": "python3"
  },
  "language_info": {
   "codemirror_mode": {
    "name": "ipython",
    "version": 3
   },
   "file_extension": ".py",
   "mimetype": "text/x-python",
   "name": "python",
   "nbconvert_exporter": "python",
   "pygments_lexer": "ipython3",
   "version": "3.6.7"
  }
 },
 "nbformat": 4,
 "nbformat_minor": 2
}
