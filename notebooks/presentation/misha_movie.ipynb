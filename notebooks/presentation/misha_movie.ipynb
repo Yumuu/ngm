{
 "cells": [
  {
   "cell_type": "code",
   "execution_count": 48,
   "metadata": {},
   "outputs": [
    {
     "name": "stdout",
     "output_type": "stream",
     "text": [
      "Starting flika\n",
      "flika menubar already initialized.\n",
      "Starting flika inside IPython\n"
     ]
    },
    {
     "data": {
      "text/plain": [
       "<flika.app.application.FlikaApplication at 0x2b0e398d0948>"
      ]
     },
     "execution_count": 48,
     "metadata": {},
     "output_type": "execute_result"
    }
   ],
   "source": [
    "%matplotlib inline\n",
    "import matplotlib.pyplot as plt\n",
    "import numpy as np\n",
    "import flika as flk\n",
    "from fish.ephys.ephys import load, windowed_variance, estimate_onset\n",
    "from scipy.ndimage.filters import gaussian_filter1d\n",
    "from fish.image.zds import ZDS\n",
    "from fish.util.fileio import to_dask\n",
    "from dask.distributed import Client\n",
    "from fish.util.distributed import get_cluster\n",
    "from dask.array import coarsen\n",
    "flk.start_flika()"
   ]
  },
  {
   "cell_type": "code",
   "execution_count": 49,
   "metadata": {},
   "outputs": [],
   "source": [
    "def mydff(v):\n",
    "    from fish.image.vol import dff\n",
    "    camera_offset = 80\n",
    "    window = 400\n",
    "    percentile = 20\n",
    "    offset = 10    \n",
    "    downsample = 10;\n",
    "    return dff((v - camera_offset).clip(1, None), window, percentile, offset, downsample, axis=0).astype('float32')\n",
    "\n",
    "\n",
    "def shift_yx(im, shifts, block_id):\n",
    "    from scipy.ndimage.interpolation import shift\n",
    "    t = block_id[0]    \n",
    "    return shift(im.astype('float32'), (0,0, *shifts[t]), order=1, cval=100)"
   ]
  },
  {
   "cell_type": "code",
   "execution_count": 50,
   "metadata": {},
   "outputs": [],
   "source": [
    "base_dirs = ['/nrs/ahrens/Yu/newfromdm11/glia_neuron_imaging/20161012/20161012_1_1_cy221_6dpf_0gain_wholebrain_20161012_113040/', \n",
    "            '/nrs/ahrens/Yu/newfromdm11/glia_neuron_imaging/20161022/fish1/20161022_1_1_cy221_6dpf_GA_0gain_20161022_151003/',\n",
    "            '/nrs/ahrens/Yu/newfromdm11/glia_neuron_imaging/20161206/fish1/20161206_1_2_gfap_gc6f_6dpf_CLpause_OLGU_20161206_123501/',\n",
    "            '/nrs/ahrens/Yu/newfromdm11/glia_neuron_imaging/20161206/fish2/20161206_2_1_gfap_gc6f_6dpf_CLpause_OLGU_20161206_161111/',\n",
    "            '/nrs/ahrens/Yu/newfromdm11/glia_neuron_imaging/20170111/fish1/20170111_1_1_gfapgc_6dpf_GAIN_TRIAL_20170111_123355/',\n",
    "            '/nrs/ahrens/Yu/newfromdm11/glia_neuron_imaging/20170529/fish1/20170529_1_1_GFAPGC_0gain_20170529_152728/']"
   ]
  },
  {
   "cell_type": "code",
   "execution_count": 126,
   "metadata": {},
   "outputs": [
    {
     "data": {
      "text/plain": [
       "'/groups/ahrens/ahrenslab/YuMu/SPIM/active_datasets/20171022/fish1/20171022_1_3_GFAPrgeco_injectedTRPV1_6dpf_beforeaftercsn10uM_20171022_141052/'"
      ]
     },
     "execution_count": 126,
     "metadata": {},
     "output_type": "execute_result"
    }
   ],
   "source": [
    "base_dir"
   ]
  },
  {
   "cell_type": "code",
   "execution_count": 125,
   "metadata": {},
   "outputs": [
    {
     "data": {
      "text/plain": [
       "(10464, 27, 772, 800)"
      ]
     },
     "execution_count": 125,
     "metadata": {},
     "output_type": "execute_result"
    }
   ],
   "source": [
    "from skimage.io import imread\n",
    "from scipy.ndimage.filters import median_filter\n",
    "from functools import partial\n",
    "\n",
    "base_dir = base_dirs[1] \n",
    "dset = ZDS(base_dir + 'raw/')\n",
    "data = to_dask(dset.files)\n",
    "\n",
    "shifts = -np.load(base_dir.replace('raw','proc') + '/reg/regparams_affine.npy')[:,:-1,-1]\n",
    "shifts = median_filter(shifts, size=(300,1))\n",
    "data.shape"
   ]
  },
  {
   "cell_type": "code",
   "execution_count": 12,
   "metadata": {},
   "outputs": [],
   "source": [
    "# get giving up timepoints\n",
    "from scipy.io import loadmat\n",
    "from h5py import File\n",
    "epd = File(base_dir + 'ephys/data.mat', 'r')['data']\n",
    "gu_inds = loadmat(base_dir + 'ephys/GU_ind.mat')['GU_ind']\n",
    "gu_inds_cam = epd['frame'][:].squeeze().astype('int')[gu_inds[:,1]]\n",
    "window = np.arange(-20,20)"
   ]
  },
  {
   "cell_type": "code",
   "execution_count": 111,
   "metadata": {},
   "outputs": [],
   "source": [
    "roi = (slice(None), slice(None), slice(None), slice(None))\n",
    "data_tx = data.map_blocks(shift_yx, shifts[roi[0]], dtype='float32')\n",
    "medfilt = partial(median_filter, size=(1,1,5,5))\n",
    "data_filt = data_tx.map_blocks(medfilt)\n",
    "\n",
    "ds_xy = 4\n",
    "data_ds = coarsen(np.mean, data_tx, {2: ds_xy, 3: ds_xy})\n",
    "rechunked = data_ds.rechunk(chunks=(data_ds.shape[0], data_ds.shape[1], 32,32))\n",
    "data_dff = rechunked.map_blocks(mydff, dtype='float32')\n",
    "data_dff_trial = data_dff.vindex[gu_inds_cam + window.reshape(-1,1)].mean(1)"
   ]
  },
  {
   "cell_type": "code",
   "execution_count": 65,
   "metadata": {},
   "outputs": [
    {
     "data": {
      "text/html": [
       "<table style=\"border: 2px solid white;\">\n",
       "<tr>\n",
       "<td style=\"vertical-align: top; border: 0px solid white\">\n",
       "<h3>Client</h3>\n",
       "<ul>\n",
       "  <li><b>Scheduler: </b>tcp://10.36.107.41:33519\n",
       "  <li><b>Dashboard: </b><a href='http://10.36.107.41:37570/status' target='_blank'>http://10.36.107.41:37570/status</a>\n",
       "</ul>\n",
       "</td>\n",
       "<td style=\"vertical-align: top; border: 0px solid white\">\n",
       "<h3>Cluster</h3>\n",
       "<ul>\n",
       "  <li><b>Workers: </b>0</li>\n",
       "  <li><b>Cores: </b>0</li>\n",
       "  <li><b>Memory: </b>0 B</li>\n",
       "</ul>\n",
       "</td>\n",
       "</tr>\n",
       "</table>"
      ],
      "text/plain": [
       "<Client: scheduler='tcp://10.36.107.41:33519' processes=0 cores=0>"
      ]
     },
     "execution_count": 65,
     "metadata": {},
     "output_type": "execute_result"
    }
   ],
   "source": [
    "cluster = get_cluster()\n",
    "client = Client(cluster)\n",
    "client"
   ]
  },
  {
   "cell_type": "code",
   "execution_count": 112,
   "metadata": {},
   "outputs": [
    {
     "name": "stdout",
     "output_type": "stream",
     "text": [
      "CPU times: user 5min 16s, sys: 4min 21s, total: 9min 37s\n",
      "Wall time: 8min 56s\n"
     ]
    }
   ],
   "source": [
    "%%time\n",
    "import time\n",
    "cluster.start_workers(200)\n",
    "# give some time for the workers to arrive\n",
    "time.sleep(20)\n",
    "result_dff = data_dff.compute()\n",
    "cluster.stop_workers(cluster.workers)"
   ]
  },
  {
   "cell_type": "code",
   "execution_count": 118,
   "metadata": {},
   "outputs": [
    {
     "data": {
      "text/plain": [
       "(7062, 24, 159, 176)"
      ]
     },
     "execution_count": 118,
     "metadata": {},
     "output_type": "execute_result"
    }
   ],
   "source": [
    "result_dff.shape"
   ]
  },
  {
   "cell_type": "code",
   "execution_count": 119,
   "metadata": {},
   "outputs": [
    {
     "name": "stdout",
     "output_type": "stream",
     "text": [
      "/groups/ahrens/ahrenslab/projects/ngm/20171107_1_3_gfaprgeco_gfaptrpv1_6dpf_csn.tif\n"
     ]
    },
    {
     "name": "stderr",
     "output_type": "stream",
     "text": [
      "/groups/ahrens/home/bennettd/anaconda3/lib/python3.6/site-packages/skimage/external/tifffile/tifffile.py:1088: UserWarning: truncating ImageJ file\n",
      "  warnings.warn(\"truncating ImageJ file\")\n"
     ]
    }
   ],
   "source": [
    "out_path = '/groups/ahrens/ahrenslab/projects/ngm/'\n",
    "fname = dset.metadata['data_header'] + '_gu_ave.tif'\n",
    "print(out_path + fname)\n",
    "from skimage.io import imsave\n",
    "imsave(out_path + fname, result_dff, imagej=True)"
   ]
  },
  {
   "cell_type": "code",
   "execution_count": 30,
   "metadata": {},
   "outputs": [],
   "source": [
    "from fish.util.plot import proj_fuse"
   ]
  },
  {
   "cell_type": "code",
   "execution_count": 33,
   "metadata": {},
   "outputs": [
    {
     "name": "stderr",
     "output_type": "stream",
     "text": [
      "/groups/ahrens/home/bennettd/anaconda3/lib/python3.6/site-packages/skimage/transform/_warps.py:110: UserWarning: Anti-aliasing will be enabled by default in skimage 0.15 to avoid aliasing artifacts when down-sampling images.\n",
      "  warn(\"Anti-aliasing will be enabled by default in skimage 0.15 to \"\n"
     ]
    }
   ],
   "source": [
    "fused = np.array([proj_fuse(r, np.max, aspect=(8,1,1)) for r in result_dff])"
   ]
  },
  {
   "cell_type": "code",
   "execution_count": 34,
   "metadata": {},
   "outputs": [
    {
     "name": "stdout",
     "output_type": "stream",
     "text": [
      "Starting flika\n",
      "flika menubar already initialized.\n",
      "Starting flika inside IPython\n"
     ]
    },
    {
     "data": {
      "text/plain": [
       "<flika.window.Window at 0x2b0cc7f9f168>"
      ]
     },
     "execution_count": 34,
     "metadata": {},
     "output_type": "execute_result"
    }
   ],
   "source": [
    "flk.start_flika()\n",
    "flk.window.Window(fused.transpose(0,2,1))"
   ]
  }
 ],
 "metadata": {
  "kernelspec": {
   "display_name": "Python 3",
   "language": "python",
   "name": "python3"
  },
  "language_info": {
   "codemirror_mode": {
    "name": "ipython",
    "version": 3
   },
   "file_extension": ".py",
   "mimetype": "text/x-python",
   "name": "python",
   "nbconvert_exporter": "python",
   "pygments_lexer": "ipython3",
   "version": "3.6.6"
  }
 },
 "nbformat": 4,
 "nbformat_minor": 2
}
