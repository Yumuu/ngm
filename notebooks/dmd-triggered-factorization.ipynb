{
 "cells": [
  {
   "cell_type": "code",
   "execution_count": 1,
   "metadata": {},
   "outputs": [],
   "source": [
    "import numpy as np\n",
    "import matplotlib.pyplot as plt\n",
    "import matplotlib\n",
    "matplotlib.style.use('presentation')\n",
    "from fish.image.vol import get_stack_dims, get_stack_freq, unfilter_flat\n",
    "from fish.util.fileio import read_image\n",
    "from fish.util.plot import proj_fuse\n",
    "from fish.ephys.ephys import load, estimate_onset, chop_trials\n",
    "from skimage.io import imread\n",
    "from glob import glob\n",
    "import thunder as td\n",
    "\n",
    "from os.path import exists\n",
    "%matplotlib inline"
   ]
  },
  {
   "cell_type": "code",
   "execution_count": 340,
   "metadata": {},
   "outputs": [],
   "source": [
    "def flip_pcs(weights):\n",
    "    # return an array of 1s or -1s for each PC signifying whether that PC is \"flipped\"\n",
    "    to_flip = (abs(weights.max(0)) > abs(weights.min(0))).astype('int')\n",
    "    to_flip[to_flip == False] = -1\n",
    "    to_flip[to_flip == True] = 1\n",
    "    \n",
    "    return to_flip\n",
    "\n",
    "def wheremax(arr):\n",
    "    from numpy import unravel_index, argmax\n",
    "    return unravel_index(argmax(arr), arr.shape)\n",
    "\n",
    "def get_max_rois(vol, sigma=(8,8)):\n",
    "    from scipy.ndimage.filters import gaussian_filter\n",
    "    from numpy import array, hstack\n",
    "    z_inds = np.arange(vol.shape[0]).reshape(-1,1)\n",
    "    mx_inds = array([wheremax(gaussian_filter(z, sigma)) for z in vol])\n",
    "    return hstack([z_inds, mx_inds])\n",
    "\n",
    "def get_valid_frames(data, rois, threshold=1):    \n",
    "    roi_ts = data.map(lambda v: v[list(zip(*rois))]).toarray()\n",
    "    return roi_ts.T\n",
    "    \n",
    "def clean_trial_mean(kvp, masks, tr_len):\n",
    "    from numpy.ma import array as marray\n",
    "    from numpy import array\n",
    "    coords, data = kvp    \n",
    "    # figure out which plane we are in and choose the correct temporal mask\n",
    "    mask = masks[coords[0]]\n",
    "    num_trials = len(data) // tr_len\n",
    "    return coords, array(marray(data, mask=mask).reshape(num_trials, tr_len).mean(0))\n",
    "\n",
    "def kvp_to_array(kvp, dims, baseline=0):\n",
    "    from numpy import zeros\n",
    "    output = zeros(dims) + baseline\n",
    "    for kv in kvp:\n",
    "        output[kv[0]] = kv[1]\n",
    "    return output"
   ]
  },
  {
   "cell_type": "code",
   "execution_count": 3,
   "metadata": {},
   "outputs": [
    {
     "name": "stdout",
     "output_type": "stream",
     "text": [
      "Sampling rate:  1.7100000000000002 Hz\n",
      "7250\n"
     ]
    }
   ],
   "source": [
    "from os.path import sep\n",
    "paths = {}\n",
    "\n",
    "# for my data\n",
    "#paths['ephys'] = '/groups/ahrens/ahrenslab/davis/data/ephys/20171108/7dpf_cy171xec43_f1_opto_2_12mw.10chFlt'\n",
    "#paths['raw'] = '/groups/ahrens/ahrenslab/davis/data/spim/raw/20171108/7dpf_cy171xec43_f1_opto_2_12mw_20171108_215904/'\n",
    "#paths['proc'] = paths['raw'].replace('raw', 'proc')\n",
    "#paths['reg'] = paths['proc'] + 'reg/'\n",
    "#paths['opto'] = paths['proc'] + 'opto_triggering/'\n",
    "\n",
    "# for yumu's data\n",
    "paths['raw'] = '/groups/ahrens/ahrenslab/YuMu/SPIM/active_datasets/20171229/fish1/20171229_1_5_hucrgeco_gfapcochr_7dpf_stimwaist_imagedwiithhigherpower_20171229_135523/raw/'\n",
    "paths['proc'] = '/groups/ahrens/ahrenslab/davis/data/spim/proc/20171229/fish1/20171229_1_5_hucrgeco_gfapcochr_7dpf_stimwaist_imagedwiithhigherpower_20171229_135523/'\n",
    "paths['ephys'] = '/groups/ahrens/ahrenslab/YuMu/SPIM/active_datasets/20171229/fish1/20171229_1_5_hucrgeco_gfapcochr_7dpf_stimwaist_imagedwiithhigherpower_20171229_135523/ephys/20171229_1_5_gfapcochr_hucrgeco_7dpf_stimwaist_withctrl_staticpulse_noimaging.10chFlt'\n",
    "paths['opto'] = paths['proc'] + 'opto_triggering/'\n",
    "\n",
    "exp_name = paths['raw'].split(sep)[-2]\n",
    "\n",
    "mask = imread(paths['opto'] + 'mask.tif')\n",
    "mask_ds = mask[:,::2,::2]\n",
    "# function to reconstruct linearized data, given 2x downsampling in xy\n",
    "recon = lambda v: unfilter_flat(v, mask_ds.astype('bool'))\n",
    "av_window = np.load(paths['opto'] + 'av_window.npy')\n",
    "\n",
    "# set correct aspect ratio for plotting\n",
    "from fish.image.vol import get_metadata\n",
    "exp_data = get_metadata(paths['raw'] + 'ch0.xml')\n",
    "bidirectional_stack = exp_data['bidirectional_stack'] == 'T'\n",
    "z_step = exp_data['z_step']\n",
    "ds_xy = 2\n",
    "aspect = (int(z_step / .406) // ds_xy, 1, 1)\n",
    "dims = get_stack_dims(paths['raw'])[::-1]\n",
    "single_plane = False\n",
    "if dims[0] == 50:\n",
    "    single_plane = True\n",
    "\n",
    "fnames = sorted(glob(paths['raw'] + 'TM*'))\n",
    "\n",
    "num_frames = len(fnames)\n",
    "# Number of timepoints per file is 50 for high speed single plane\n",
    "if single_plane:\n",
    "    num_frames = len(fnames) * 50\n",
    "\n",
    "from fish.image.vol import get_stack_freq\n",
    "fs_im = 1 / get_stack_freq(paths['raw'])[0]    \n",
    "print('Sampling rate:  {0} Hz'.format(1 / fs_im))\n",
    "print(num_frames)\n",
    "\n",
    "cond_paths = sorted(glob(paths['opto'] + 'condition*'))\n",
    "conds = [int(c.split('_')[-1]) for c in cond_paths]"
   ]
  },
  {
   "cell_type": "code",
   "execution_count": 6,
   "metadata": {},
   "outputs": [],
   "source": [
    "trials = [td.images.fromlist(sorted(glob(c + '/t_*.npy')), accessor=np.load, engine=sc) for c in cond_paths]\n",
    "first_trial = 5\n",
    "num_trials = [tr.shape[0] // len(av_window) - first_trial for tr in trials]"
   ]
  },
  {
   "cell_type": "code",
   "execution_count": 4,
   "metadata": {},
   "outputs": [],
   "source": [
    "from fish.ephys.ephys import estimate_onset\n",
    "epdat = load(paths['ephys'])\n",
    "fs_ep = 6000"
   ]
  },
  {
   "cell_type": "code",
   "execution_count": 7,
   "metadata": {},
   "outputs": [],
   "source": [
    "chopped = chop_trials(epdat[4])\n",
    "stim_dur = np.median(np.diff(np.array(list(zip(*chopped[1.0]))))) / fs_ep\n",
    "stim_dur_frames = np.ceil(stim_dur / fs_im)\n",
    "stim_window = np.arange(stim_dur_frames).astype('int') + np.where(av_window==0)[0]\n",
    "stim_frames = np.concatenate([stim_window + t for t in range(0, len(av_window) * num_trials[0], len(av_window))])"
   ]
  },
  {
   "cell_type": "code",
   "execution_count": 239,
   "metadata": {},
   "outputs": [],
   "source": [
    "mx_projs = [tr.max().map(recon).toarray() for tr in trials]\n",
    "artifact_rois = [get_max_rois(mx) for mx in mx_projs]\n",
    "vol_data = [tr.map(recon) for tr in trials]\n",
    "artifact_ts = [get_valid_frames(vol_data[ind], artifact_rois[ind]) for ind in range(len(vol_data))]\n",
    "ser_rdds = [tr.map(recon).toseries().tordd() for tr in trials]\n",
    "thr = 1.0\n",
    "cleaned = [ser_rdds[ind].map(lambda v: clean_trial_mean(v, artifact_ts[ind] > thr, len(av_window))).collect() for ind in range(len(ser_rdds))]\n",
    "cleaned_vols = [kvp_to_array(cleaned[ind], [*mask_ds.shape, len(av_window)]).transpose([3,0,1,2]) for ind in range(len(cleaned))]"
   ]
  },
  {
   "cell_type": "code",
   "execution_count": 343,
   "metadata": {},
   "outputs": [
    {
     "data": {
      "text/plain": [
       "['/groups/ahrens/ahrenslab/davis/data/spim/proc/20171229/fish1/20171229_1_5_hucrgeco_gfapcochr_7dpf_stimwaist_imagedwiithhigherpower_20171229_135523/opto_triggering/trial_mean_cleaned_condition_2',\n",
       " '/groups/ahrens/ahrenslab/davis/data/spim/proc/20171229/fish1/20171229_1_5_hucrgeco_gfapcochr_7dpf_stimwaist_imagedwiithhigherpower_20171229_135523/opto_triggering/condition_2',\n",
       " '/groups/ahrens/ahrenslab/davis/data/spim/proc/20171229/fish1/20171229_1_5_hucrgeco_gfapcochr_7dpf_stimwaist_imagedwiithhigherpower_20171229_135523/opto_triggering/mask.tif',\n",
       " '/groups/ahrens/ahrenslab/davis/data/spim/proc/20171229/fish1/20171229_1_5_hucrgeco_gfapcochr_7dpf_stimwaist_imagedwiithhigherpower_20171229_135523/opto_triggering/trial_mean_condition_2',\n",
       " '/groups/ahrens/ahrenslab/davis/data/spim/proc/20171229/fish1/20171229_1_5_hucrgeco_gfapcochr_7dpf_stimwaist_imagedwiithhigherpower_20171229_135523/opto_triggering/trial_mean_condition_1',\n",
       " '/groups/ahrens/ahrenslab/davis/data/spim/proc/20171229/fish1/20171229_1_5_hucrgeco_gfapcochr_7dpf_stimwaist_imagedwiithhigherpower_20171229_135523/opto_triggering/Thumbs.db',\n",
       " '/groups/ahrens/ahrenslab/davis/data/spim/proc/20171229/fish1/20171229_1_5_hucrgeco_gfapcochr_7dpf_stimwaist_imagedwiithhigherpower_20171229_135523/opto_triggering/trial_mean_cleaned_condition_1',\n",
       " '/groups/ahrens/ahrenslab/davis/data/spim/proc/20171229/fish1/20171229_1_5_hucrgeco_gfapcochr_7dpf_stimwaist_imagedwiithhigherpower_20171229_135523/opto_triggering/condition_1',\n",
       " '/groups/ahrens/ahrenslab/davis/data/spim/proc/20171229/fish1/20171229_1_5_hucrgeco_gfapcochr_7dpf_stimwaist_imagedwiithhigherpower_20171229_135523/opto_triggering/av_window.npy']"
      ]
     },
     "execution_count": 343,
     "metadata": {},
     "output_type": "execute_result"
    }
   ],
   "source": [
    "glob(paths['opto'] + '*')"
   ]
  },
  {
   "cell_type": "code",
   "execution_count": 341,
   "metadata": {},
   "outputs": [],
   "source": [
    "# save trial-average movies to disk\n",
    "from skimage.io import imsave\n",
    "from os.path import exists\n",
    "from os import mkdir\n",
    "for ind, val in enumerate(cleaned_vols):\n",
    "    tmp_path = paths['opto'] + 'trial_mean_cleaned_condition_{0}/'.format(ind + 1)\n",
    "    if not exists(tmp_path):\n",
    "        mkdir(tmp_path)\n",
    "    for ind_t, vol in enumerate(val):\n",
    "        imsave(tmp_path + 'tm_{0:05d}.tif'.format(ind_t), vol.astype('float32'))"
   ]
  },
  {
   "cell_type": "code",
   "execution_count": 338,
   "metadata": {},
   "outputs": [],
   "source": [
    "unrolled = cleaned_vols[0].reshape(cleaned_vol.shape[0], cleaned_vol.shape[1] * cleaned_vol.shape[2], cleaned_vol.shape[3])\n",
    "pq.image(unrolled)"
   ]
  },
  {
   "cell_type": "code",
   "execution_count": 7,
   "metadata": {},
   "outputs": [],
   "source": [
    "mean_responses = [tr.toseries().map(lambda v: v[len(av_window) * first_trial:].reshape(num_trials[ind], len(av_window)).mean(0)).toarray() for ind,tr in enumerate(trials)]\n",
    "mean_responses = [np.array(list(map(recon, mr.T))) for mr in mean_responses]"
   ]
  },
  {
   "cell_type": "code",
   "execution_count": 8,
   "metadata": {},
   "outputs": [],
   "source": [
    "# save trial-average movies to disk\n",
    "from skimage.io import imsave\n",
    "from os.path import exists\n",
    "from os import mkdir\n",
    "for ind, val in enumerate(mean_responses):\n",
    "    tmp_path = paths['opto'] + 'trial_mean_condition_{0}/'.format(ind + 1)\n",
    "    if not exists(tmp_path):\n",
    "        mkdir(tmp_path)\n",
    "    for ind_t, vol in enumerate(val):\n",
    "        imsave(tmp_path + 'tm_{0:05d}.tif'.format(ind_t), vol.astype('float32'))"
   ]
  },
  {
   "cell_type": "code",
   "execution_count": null,
   "metadata": {},
   "outputs": [],
   "source": [
    "%%time\n",
    "from factorization import PCA\n",
    "for ind_c, cond in enumerate(conds):\n",
    "    ser = trials[ind_c].toseries().map(lambda v: v[first_trial * len(av_window):])\n",
    "    ser.cache()\n",
    "    ser.count()\n",
    "    pca = PCA(k=15, svd_method='em').fit(ser)\n",
    "    to_flip = flip_pcs(pca[0])\n",
    "    pca[0] = pca[0] * to_flip\n",
    "    pca[1] = (pca[1].T * to_flip).T\n",
    "    np.save(paths['opto'] + 'pca_condition_{0}.npy'.format(cond), np.array(pca))\n",
    "    ser.tordd().unpersist()"
   ]
  },
  {
   "cell_type": "code",
   "execution_count": null,
   "metadata": {},
   "outputs": [],
   "source": [
    "pca_vols = np.array([recon(pca[0][:,ind]) for ind in range(pca[0].shape[1])])"
   ]
  },
  {
   "cell_type": "code",
   "execution_count": null,
   "metadata": {
    "scrolled": false
   },
   "outputs": [],
   "source": [
    "from skimage.exposure import adjust_gamma, rescale_intensity\n",
    "to_plot = range(pca[1].shape[0])\n",
    "fig, axs = plt.subplots(nrows=len(to_plot), ncols=2, figsize=(16, len(to_plot) * 4), gridspec_kw={'width_ratios' : (1,2)})\n",
    "for ind, ax in enumerate(axs):    \n",
    "    pc_ = to_plot[ind]\n",
    "    ax[0].plot(pca[1][pc_].reshape(num_trials[ind_c], len(av_window)).T, color='gray', alpha=.5);\n",
    "    ax[0].plot(pca[1][pc_].reshape(num_trials[ind_c], len(av_window)).T.mean(1), color='m', linewidth=3);\n",
    "    ax[0].set_ylabel('PC {0}'.format(pc_), fontsize=18)\n",
    "    im = pca_vols[pc_].max(0)[10:-10,10:-10]\n",
    "    im = rescale_intensity(im, out_range=(0, 1))    \n",
    "    ax[1].imshow(im ** .8, cmap='magma')\n",
    "    ax[1].axis('off')"
   ]
  },
  {
   "cell_type": "code",
   "execution_count": null,
   "metadata": {},
   "outputs": [],
   "source": [
    "pcas_group = {}"
   ]
  },
  {
   "cell_type": "code",
   "execution_count": null,
   "metadata": {},
   "outputs": [],
   "source": [
    "%%time\n",
    "# Try local factorizaton on trial average\n",
    "trial_means = sorted(glob(paths['proc'] + 'opto_triggering/*trial_mean*'))\n",
    "results = []\n",
    "for ind, c in enumerate(trial_means):\n",
    "        fnames = sorted(glob(c + '/*.tif'))\n",
    "        results.append(np.array([filter_flat(imread(fn), mask_ds.astype('bool')) for fn in fnames]))\n",
    "\n",
    "from factorization import PCA\n",
    "pcas = [PCA(k=10).fit(r) for r in results]"
   ]
  },
  {
   "cell_type": "code",
   "execution_count": null,
   "metadata": {},
   "outputs": [],
   "source": [
    "pcas_group[exp_name] = pcas"
   ]
  },
  {
   "cell_type": "code",
   "execution_count": null,
   "metadata": {},
   "outputs": [],
   "source": [
    "def pca_summary(comps, maps):\n",
    "    from fish.util.plot import proj_fuse\n",
    "    n_comps = comps.shape[1]\n",
    "    nr = n_comps\n",
    "    nc = 3\n",
    "    # duration of stim in seconds\n",
    "    stim_dur = 3\n",
    "    fig, axs = plt.subplots(nrows=nr, ncols=nc, figsize=(18, nr * 6), gridspec_kw={'width_ratios' : (1,2,2)})\n",
    "    for ind, ax_ in enumerate(axs):\n",
    "        map_ = recon(maps[ind])\n",
    "        ax_[0].plot(av_window * fs_im, comps[:, ind], color='orange', linewidth=3)\n",
    "        ax_[0].axvspan(0, stim_dur, alpha=.2)\n",
    "        axs_format(ax_[0])\n",
    "        ax_[1].imshow(proj_fuse(map_, np.max, aspect=aspect)[:,:1024], cmap='terrain', origin='lower')\n",
    "        ax_[2].imshow(proj_fuse(map_, np.min, aspect=aspect)[:,:1024], cmap='terrain_r', origin='lower')\n",
    "        [ax.axis('off') for ax in [ax_[1], ax_[2]]]\n",
    "    plt.subplots_adjust(wspace=0, hspace=.05)"
   ]
  },
  {
   "cell_type": "code",
   "execution_count": null,
   "metadata": {},
   "outputs": [],
   "source": [
    "exps = sorted(pcas_group.keys())"
   ]
  },
  {
   "cell_type": "code",
   "execution_count": null,
   "metadata": {
    "scrolled": false
   },
   "outputs": [],
   "source": [
    "comp_range = slice(0, 4)\n",
    "[pca_summary(pca_[0][:,comp_range], pca_[1][comp_range,:]) for pca_ in pcas_group[exps[0]]]"
   ]
  },
  {
   "cell_type": "code",
   "execution_count": null,
   "metadata": {
    "scrolled": false
   },
   "outputs": [],
   "source": [
    "comp_range = slice(0, 4)\n",
    "[pca_summary(pca_[0][:,comp_range], pca_[1][comp_range,:]) for pca_ in pcas_group[exps[1]]]"
   ]
  },
  {
   "cell_type": "code",
   "execution_count": null,
   "metadata": {},
   "outputs": [],
   "source": []
  }
 ],
 "metadata": {
  "kernelspec": {
   "display_name": "Python 3",
   "language": "python",
   "name": "python3"
  },
  "language_info": {
   "codemirror_mode": {
    "name": "ipython",
    "version": 3
   },
   "file_extension": ".py",
   "mimetype": "text/x-python",
   "name": "python",
   "nbconvert_exporter": "python",
   "pygments_lexer": "ipython3",
   "version": "3.6.4"
  }
 },
 "nbformat": 4,
 "nbformat_minor": 2
}
