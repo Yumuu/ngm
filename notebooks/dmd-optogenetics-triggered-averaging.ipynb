{
 "cells": [
  {
   "cell_type": "markdown",
   "metadata": {},
   "source": [
    "## Get imaging frames corresponding to stimulation epochs"
   ]
  },
  {
   "cell_type": "code",
   "execution_count": 17,
   "metadata": {
    "collapsed": true
   },
   "outputs": [],
   "source": [
    "import numpy as np\n",
    "import matplotlib.pyplot as plt\n",
    "%matplotlib inline\n",
    "from fish.ephys.ephys import load, estimate_onset, chop_trials"
   ]
  },
  {
   "cell_type": "code",
   "execution_count": 3,
   "metadata": {
    "collapsed": true
   },
   "outputs": [],
   "source": [
    "dirs = {}\n",
    "dirs['ephys'] = '/groups/ahrens/ahrenslab/davis/data/ephys/20170531/5dpf_th1_cochcrxgfap_rgeco_f1_opto_11/5dpf_th1_cochcrxgfap_rgeco_f1_opto_11.10chFlt'"
   ]
  },
  {
   "cell_type": "code",
   "execution_count": 15,
   "metadata": {},
   "outputs": [],
   "source": [
    "ep_dat = load(dirs['ephys'])\n",
    "cam_times = estimate_onset(ep_dat[2], threshold=3.7, duration=100)\n",
    "laser_on = estimate_onset(ep_dat[3], threshold=3.7, duration=400)\n",
    "laser_off = len(ep_dat[3]) - estimate_onset(ep_dat[3][::-1], threshold=3.7, duration=400)"
   ]
  },
  {
   "cell_type": "code",
   "execution_count": 16,
   "metadata": {},
   "outputs": [
    {
     "data": {
      "image/png": "[encoded data removed]",
      "text/plain": [
       "<matplotlib.figure.Figure at 0x2b8536a1b208>"
      ]
     },
     "metadata": {},
     "output_type": "display_data"
    }
   ],
   "source": [
    "plt.figure(1,(16,4))\n",
    "plr = np.arange(0, ep_dat.shape[1], 100)\n",
    "plt.plot(plr, ep_dat[3][plr])\n",
    "[plt.axvline(l) for l in laser_on];\n",
    "[plt.axvline(l) for l in laser_off];"
   ]
  },
  {
   "cell_type": "markdown",
   "metadata": {},
   "source": [
    "Get times when different ROI were stimulated.\n",
    "Trial timing is sufficiently close to laser timing, so we can just use the time trials started / stopped as a proxy for laser stimulation timing"
   ]
  },
  {
   "cell_type": "code",
   "execution_count": 90,
   "metadata": {
    "collapsed": true
   },
   "outputs": [],
   "source": [
    "output = []\n",
    "events = trials[1.0][0]\n",
    "for a in events:\n",
    "    output.append([a-b for b in cam_times])\n",
    "output = np.array(output)"
   ]
  },
  {
   "cell_type": "code",
   "execution_count": 91,
   "metadata": {},
   "outputs": [
    {
     "data": {
      "text/plain": [
       "(14, 3601)"
      ]
     },
     "execution_count": 91,
     "metadata": {},
     "output_type": "execute_result"
    }
   ],
   "source": [
    "output.shape"
   ]
  },
  {
   "cell_type": "code",
   "execution_count": 121,
   "metadata": {},
   "outputs": [
    {
     "data": {
      "text/plain": [
       "1517"
      ]
     },
     "execution_count": 121,
     "metadata": {},
     "output_type": "execute_result"
    }
   ],
   "source": [
    "ind = 5\n",
    "len(output[ind][np.where(output[ind] > 0)])"
   ]
  },
  {
   "cell_type": "code",
   "execution_count": 182,
   "metadata": {},
   "outputs": [],
   "source": [
    "trials = chop_trials(ep_dat[4])\n",
    "# for each trial onset look for the nearest cam time before the onset.\n",
    "# for each offset, look for the nearest cam time after offset\n",
    "def match_cam_time(events, cam, timing):\n",
    "    from numpy import array, where\n",
    "    tmp = []\n",
    "    output = []\n",
    "    for a in events:\n",
    "        lags = array([a-b for b in cam])\n",
    "        before = len(lags[lags > 0]) - 1\n",
    "        after = before + 1\n",
    "        \n",
    "        if (before >= 0) and (after < len(cam)):\n",
    "            if timing == 'pre':                \n",
    "                output.append(before)\n",
    "            if timing == 'post':\n",
    "                output.append(after)    \n",
    "    return array(output)\n",
    "\n",
    "trials_cam = {}\n",
    "\n",
    "for key, val in trials.items():\n",
    "    pre = match_cam_time(val[0], cam_times, timing='pre')\n",
    "    post = match_cam_time(val[1], cam_times, timing='post')\n",
    "    trials_cam[key] = [pre, post]"
   ]
  },
  {
   "cell_type": "code",
   "execution_count": 183,
   "metadata": {},
   "outputs": [
    {
     "data": {
      "text/plain": [
       "[array([  62,  207,  643,  789, 1225, 1370, 1807, 1952, 2388, 2533, 2970,\n",
       "        3115, 3551]),\n",
       " array([ 111,  257,  693,  838, 1274, 1420, 1856, 2001, 2437, 2583, 3019,\n",
       "        3164])]"
      ]
     },
     "execution_count": 183,
     "metadata": {},
     "output_type": "execute_result"
    }
   ],
   "source": [
    "trials_cam[2.0]"
   ]
  },
  {
   "cell_type": "code",
   "execution_count": 184,
   "metadata": {},
   "outputs": [
    {
     "data": {
      "image/png": "[encoded data removed]",
      "text/plain": [
       "<matplotlib.figure.Figure at 0x2b854db1e438>"
      ]
     },
     "metadata": {},
     "output_type": "display_data"
    }
   ],
   "source": [
    "plt.figure(1,(16,5))\n",
    "plt.plot(ep_dat[4])\n",
    "#[plt.axvline(c, alpha = .4) for c in cam_times];\n",
    "[plt.axvline(cam_times[t], color='r') for t in trials_cam[1.0][0]];\n",
    "[plt.axvline(cam_times[t], color='y') for t in trials_cam[1.0][1]];"
   ]
  },
  {
   "cell_type": "code",
   "execution_count": null,
   "metadata": {
    "collapsed": true
   },
   "outputs": [],
   "source": []
  }
 ],
 "metadata": {
  "kernelspec": {
   "display_name": "Python [conda root]",
   "language": "python",
   "name": "conda-root-py"
  },
  "language_info": {
   "codemirror_mode": {
    "name": "ipython",
    "version": 3
   },
   "file_extension": ".py",
   "mimetype": "text/x-python",
   "name": "python",
   "nbconvert_exporter": "python",
   "pygments_lexer": "ipython3",
   "version": "3.5.2"
  }
 },
 "nbformat": 4,
 "nbformat_minor": 2
}
