{
 "cells": [
  {
   "cell_type": "code",
   "execution_count": 2,
   "metadata": {
    "collapsed": true
   },
   "outputs": [],
   "source": [
    "from fish.ephys.ephys import load, chop_trials, estimate_onset\n",
    "from fish.util.fileio import load_image\n",
    "from glob import glob\n",
    "import numpy as np"
   ]
  },
  {
   "cell_type": "code",
   "execution_count": 3,
   "metadata": {
    "collapsed": true
   },
   "outputs": [],
   "source": [
    "def trigger_data(triggers, window, fnames, average=False):\n",
    "    from fish.util.fileio import load_image\n",
    "    from numpy import array\n",
    "    \n",
    "    ims_trial = []\n",
    "    \n",
    "    for ind, trig in enumerate(triggers):\n",
    "        \n",
    "        tr = []        \n",
    "        for t_w in window:        \n",
    "            tr.append(load_image(fnames[trig + t_w]))\n",
    "        tr = array(tr)\n",
    "        \n",
    "        \n",
    "        if (len(ims_trial) == 0) or not average:\n",
    "            ims_trial.append(tr)\n",
    "        if average:\n",
    "            if ind == 0:\n",
    "                ims_trial[0] = ims_trial[0].astype('float32') / len(triggers) \n",
    "            \n",
    "            ims_trial[0] += tr.astype('float32') / len(triggers)\n",
    "        \n",
    "    if average:         \n",
    "        return ims_trial[0]\n",
    "    else:\n",
    "        return array(ims_trial)"
   ]
  },
  {
   "cell_type": "code",
   "execution_count": 4,
   "metadata": {},
   "outputs": [
    {
     "name": "stdout",
     "output_type": "stream",
     "text": [
      "7200\n"
     ]
    }
   ],
   "source": [
    "dirs = {}\n",
    "dirs['base'] = '/groups/ahrens/ahrenslab/FROM_TIER2/Yu/SPIM/active_datasets/20170228/fish4/20170228_4_1_gfaprgeco_hucgc_6dpf_shorttrials_20170228_185002/'\n",
    "dirs['ephys'] = dirs['base'] + 'ephys/'\n",
    "dirs['raw'] = dirs['base'] + 'raw/'\n",
    "dirs['proj'] = dirs['base'] + 'projections/'\n",
    "fnames = glob(dirs['proj'] + 't*')\n",
    "fnames.sort()\n",
    "print(len(fnames))"
   ]
  },
  {
   "cell_type": "code",
   "execution_count": 5,
   "metadata": {
    "collapsed": true
   },
   "outputs": [],
   "source": [
    "from h5py import File \n",
    "epdat = {}\n",
    "with File(dirs['ephys'] + 'data.mat') as f: \n",
    "    for k in f['data'].keys():\n",
    "        epdat[k] = np.squeeze(f['data'][k][:])"
   ]
  },
  {
   "cell_type": "code",
   "execution_count": 6,
   "metadata": {
    "collapsed": true
   },
   "outputs": [],
   "source": [
    "# columns 1 and 2 are the start and stop of stim period\n",
    "# columns 3 and 4 are start and stop of swim\n",
    "# the code in the last column of this array: 1 means fish gave up, 3 means fish did not give up\n",
    "from scipy.io import loadmat\n",
    "trial_info = loadmat(dirs['ephys'] + 'trial_info.mat')['trial_info']\n",
    "gu_inds = np.where(trial_info[:,-1] == 1)[0]\n",
    "ngu_inds = np.where(trial_info[:,-1] == 3)[0]"
   ]
  },
  {
   "cell_type": "code",
   "execution_count": 15,
   "metadata": {},
   "outputs": [],
   "source": [
    "window = np.arange(-10, 20)\n",
    "\n",
    "inds_gu = epdat['frame'][trial_info[gu_inds][:,3]].astype('int')[:40]\n",
    "inds_ngu = epdat['frame'][trial_info[ngu_inds][:,3]].astype('int')[:40]\n",
    "\n",
    "trig_gu = trigger_data(inds_gu, window, fnames, average=True)\n",
    "trig_ngu = trigger_data(inds_ngu, window, fnames, average=True)"
   ]
  },
  {
   "cell_type": "code",
   "execution_count": 16,
   "metadata": {
    "collapsed": true
   },
   "outputs": [],
   "source": [
    "from skimage.io import imsave\n",
    "imsave('/groups/ahrens/ahrenslab/davis/tmp/triggered_average_gu.tif', trig_gu.astype('float32'))\n",
    "imsave('/groups/ahrens/ahrenslab/davis/tmp/triggered_average_ngu.tif', trig_ngu.astype('float32'))"
   ]
  },
  {
   "cell_type": "code",
   "execution_count": null,
   "metadata": {
    "collapsed": true
   },
   "outputs": [],
   "source": []
  },
  {
   "cell_type": "code",
   "execution_count": null,
   "metadata": {},
   "outputs": [],
   "source": [
    "import matplotlib.pyplot as plt\n",
    "plt.figure(1,(16,16))\n",
    "plt.imshow(trig_ave.max(1)[11] - trig_ave.max(1)[9], cmap='gray')\n",
    "plt.show()"
   ]
  },
  {
   "cell_type": "code",
   "execution_count": null,
   "metadata": {
    "collapsed": true
   },
   "outputs": [],
   "source": []
  }
 ],
 "metadata": {
  "kernelspec": {
   "display_name": "Python [conda root]",
   "language": "python",
   "name": "conda-root-py"
  },
  "language_info": {
   "codemirror_mode": {
    "name": "ipython",
    "version": 3
   },
   "file_extension": ".py",
   "mimetype": "text/x-python",
   "name": "python",
   "nbconvert_exporter": "python",
   "pygments_lexer": "ipython3",
   "version": "3.5.2"
  }
 },
 "nbformat": 4,
 "nbformat_minor": 2
}
