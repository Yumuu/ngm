{
 "cells": [
  {
   "cell_type": "code",
   "execution_count": null,
   "metadata": {
    "collapsed": true
   },
   "outputs": [],
   "source": [
    "from fish.ephys.ephys import load, chop_trials, estimate_onset\n",
    "from fish.util.fileio import load_image\n",
    "from glob import glob\n",
    "import matplotlib\n",
    "matplotlib.rcParams['pdf.fonttype'] = 42\n",
    "matplotlib.rcParams['ps.fonttype'] = 42\n",
    "import matplotlib.pyplot as plt\n",
    "%matplotlib inline\n",
    "import numpy as np"
   ]
  },
  {
   "cell_type": "code",
   "execution_count": null,
   "metadata": {
    "collapsed": true
   },
   "outputs": [],
   "source": [
    "matplotlib.rcParams['font.sans-serif'] = ['Arial']"
   ]
  },
  {
   "cell_type": "code",
   "execution_count": null,
   "metadata": {
    "collapsed": true
   },
   "outputs": [],
   "source": [
    "def trigger_data(triggers, window, fnames, average=False):\n",
    "    from fish.util.fileio import load_image\n",
    "    from numpy import array\n",
    "    \n",
    "    ims_trial = []\n",
    "    \n",
    "    for ind, trig in enumerate(triggers):\n",
    "        \n",
    "        tr = []        \n",
    "        for t_w in window:        \n",
    "            tr.append(load_image(fnames[trig + t_w]))\n",
    "        tr = array(tr)\n",
    "        \n",
    "        \n",
    "        if (len(ims_trial) == 0) or not average:\n",
    "            ims_trial.append(tr)\n",
    "        if average:\n",
    "            if ind == 0:\n",
    "                ims_trial[0] = ims_trial[0].astype('float32') / len(triggers) \n",
    "            \n",
    "            ims_trial[0] += tr.astype('float32') / len(triggers)\n",
    "        \n",
    "    if average:         \n",
    "        return ims_trial[0]\n",
    "    else:\n",
    "        return array(ims_trial)\n",
    "\n",
    "def get_roi(pqim, data):\n",
    "    return pqim.roi.getArrayRegion(data, pqim.imageItem, axes=(1,2)).mean((1,2))\n",
    "\n",
    "def unroll(v):\n",
    "    if v.ndim == 4:\n",
    "        return v.reshape(v.shape[0], v.shape[1] * v.shape[2], v.shape[3])\n",
    "    elif v.ndim ==3:\n",
    "        return v.reshape(v.shape[0] * v.shape[1], v.shape[2])\n",
    "    \n",
    "# Need this function to prevent pyqtgraph from leaking memory\n",
    "def wipe_ims(pq):\n",
    "    from numpy import zeros\n",
    "\n",
    "    for iw in pq.images:\n",
    "      iw.setImage(zeros((1,1))) #<- dummy 1x1 image\n",
    "      iw.parent().close()\n",
    "\n",
    "def axs_format(ax):\n",
    "    ax.spines['right'].set_visible(False)\n",
    "    ax.spines['top'].set_visible(False)\n",
    "    \n",
    "def load_muy_mat(fname, head_name='data'):\n",
    "    from h5py import File \n",
    "    data = {}\n",
    "    with File(fname) as f: \n",
    "        for k in f[head_name].keys():\n",
    "            data[k] = np.squeeze(f[head_name][k][:])\n",
    "    return data\n",
    "\n",
    "def triggered_behavior(triggers, window, swims):\n",
    "    from numpy import array\n",
    "    trig_ep = []\n",
    "    for trig in triggers:\n",
    "        trig_ep.append(swims[trig + window])\n",
    "    return array(trig_ep)\n",
    "\n",
    "def standard_clim(axes, clim_scaling=(1,1)):\n",
    "    clim = np.array([ax.get_images()[0].get_clim() for ax in axes])\n",
    "    clim = (clim.min() * clim_scaling[0], clim.max() * clim_scaling[1])\n",
    "    [ax.get_images()[0].set_clim(clim) for ax in axes]\n",
    "\n",
    "class roi_pq(object):\n",
    "    def __init__(self, coords, values):\n",
    "        self.coords = coords\n",
    "        self.values = values\n",
    "        \n",
    "    def __repr__(self):\n",
    "        return 'An roi with {0} points'.format(len(self.values[0]))"
   ]
  },
  {
   "cell_type": "code",
   "execution_count": null,
   "metadata": {
    "collapsed": true
   },
   "outputs": [],
   "source": [
    "import sys\n",
    "import json\n",
    "dirs = {}\n",
    "if sys.platform != 'win32':\n",
    "    dirs['base'] = '/groups/ahrens/ahrenslab/FROM_TIER2/Yu/SPIM/active_datasets/20170228/fish4/20170228_4_1_gfaprgeco_hucgc_6dpf_shorttrials_20170228_185002/'\n",
    "else:\n",
    "    dirs['base'] = 'Z:/FROM_TIER2/Yu/SPIM/active_datasets/20170228/fish4/20170228_4_1_gfaprgeco_hucgc_6dpf_shorttrials_20170228_185002/'\n",
    "dirs['ephys'] = dirs['base'] + 'ephys/'\n",
    "dirs['raw'] = dirs['base'] + 'raw/'\n",
    "dirs['proj'] = dirs['base'] + 'projections/'\n",
    "dirs['output'] = 'C:\\\\Users\\\\bennettd\\\\Dropbox (HHMI)\\\\ngm\\\\figs\\\\'\n",
    "from fish.image.vol import get_stack_freq\n",
    "fs_im = get_stack_freq(dirs['raw'])[0]\n",
    "\n",
    "with open(dirs['proj'] + 'metadata.json', 'r') as f:\n",
    "    metadata = json.load(f)\n",
    "\n",
    "fnames = glob(dirs['proj'] + 't*.tif')\n",
    "fnames.sort()\n",
    "print(len(fnames))"
   ]
  },
  {
   "cell_type": "code",
   "execution_count": null,
   "metadata": {
    "collapsed": true
   },
   "outputs": [],
   "source": [
    "%%time\n",
    "# Optional: load projections\n",
    "plr = slice(5000)\n",
    "projs = np.array([load_image(f) for f in fnames[plr]])"
   ]
  },
  {
   "cell_type": "code",
   "execution_count": null,
   "metadata": {
    "collapsed": true
   },
   "outputs": [],
   "source": [
    "import pyqtgraph as pq\n",
    "%gui qt"
   ]
  },
  {
   "cell_type": "code",
   "execution_count": null,
   "metadata": {
    "collapsed": true
   },
   "outputs": [],
   "source": [
    "im = pq.image(unroll(projs))"
   ]
  },
  {
   "cell_type": "code",
   "execution_count": null,
   "metadata": {
    "collapsed": true
   },
   "outputs": [],
   "source": [
    "rois = {}"
   ]
  },
  {
   "cell_type": "code",
   "execution_count": null,
   "metadata": {
    "collapsed": true
   },
   "outputs": [],
   "source": [
    "vals, coords = im.roi.getArrayRegion(unroll(projs), im.imageItem, axes=(1,2), returnMappedCoords=True)\n",
    "rois['waist_g'] = roi_pq(coords, vals.mean((1,2)))"
   ]
  },
  {
   "cell_type": "code",
   "execution_count": null,
   "metadata": {
    "collapsed": true
   },
   "outputs": [],
   "source": [
    "pl = pq.plot(rois['lc'].values)\n",
    "pl.plot(rois['waist_g'].values, pen='m')"
   ]
  },
  {
   "cell_type": "code",
   "execution_count": null,
   "metadata": {
    "collapsed": true
   },
   "outputs": [],
   "source": [
    "epdat = load_muy_mat(dirs['ephys'] + 'data.mat')\n",
    "epdat_raw = load_muy_mat(dirs['ephys'] + 'rawdata.mat', head_name='rawdata')\n",
    "swims = epdat['fltCh1'] + epdat['fltCh2']\n",
    "cam = np.where(np.diff(epdat['frame']))[0]"
   ]
  },
  {
   "cell_type": "code",
   "execution_count": null,
   "metadata": {
    "collapsed": true
   },
   "outputs": [],
   "source": [
    "# columns 1 and 2 are the start and stop of stim period\n",
    "# columns 3 and 4 are start and stop of swim\n",
    "# the code in the last column of this array: 1 means fish gave up, 3 means fish did not give up\n",
    "from scipy.io import loadmat\n",
    "pause_start = np.squeeze(loadmat(dirs['ephys'] + 'pause_start.mat')['pause_start'])\n",
    "trial_info = loadmat(dirs['ephys'] + 'trial_info.mat')['trial_info']\n",
    "\n",
    "gu_inds = trial_info[np.where(trial_info[:,-1] == 1)[0],3]\n",
    "#ngu_inds = pause_start\n",
    "ngu_inds = np.unique(trial_info[np.where(trial_info[:,-1] == 3)[0],3])\n",
    "\n",
    "minlen = min(map(len, (gu_inds, ngu_inds))) - 1\n",
    "\n",
    "gu_inds = gu_inds[:minlen]\n",
    "ngu_inds = ngu_inds[:minlen]\n",
    "\n",
    "frames_gu = epdat['frame'][gu_inds].astype('int')\n",
    "frames_ngu = epdat['frame'][ngu_inds].astype('int')"
   ]
  },
  {
   "cell_type": "code",
   "execution_count": null,
   "metadata": {
    "collapsed": true
   },
   "outputs": [],
   "source": [
    "from scipy.stats import zscore\n",
    "x_ep = np.arange(cam[0], cam[-1], 15)\n",
    "pl = pl = pq.plot(x_ep, zscore(swims[x_ep]))\n",
    "pl.plot(cam, 5 + zscore(rois['waist_g'].values), pen='m')\n",
    "pl.plot(cam, 5 + zscore(rois['lc'].values), pen='g')\n",
    "pl.plot(x_ep, 10 + zscore(epdat_raw['stimVelTotal'][x_ep]), pen='y')"
   ]
  },
  {
   "cell_type": "code",
   "execution_count": null,
   "metadata": {
    "collapsed": true
   },
   "outputs": [],
   "source": [
    "window_im = np.arange(-20, 20)\n",
    "trig_gu = trigger_data(frames_gu, window_im, fnames, average=True)\n",
    "trig_ngu = trigger_data(frames_ngu, window_im, fnames, average=True)\n",
    "\n",
    "from skimage.exposure import rescale_intensity\n",
    "in_range = (26, 4136)\n",
    "out_range = tuple(metadata['dff_lims'])\n",
    "trig_gu = rescale_intensity(trig_gu, in_range=in_range, out_range=out_range)\n",
    "trig_ngu = rescale_intensity(trig_ngu, in_range=in_range, out_range=out_range)"
   ]
  },
  {
   "cell_type": "code",
   "execution_count": null,
   "metadata": {
    "collapsed": true
   },
   "outputs": [],
   "source": [
    "def stackline(x_axis, array, axis, scale, **kwargs):\n",
    "    for ind, val in enumerate(array):\n",
    "        axis.plot(x_axis, val - ind * scale, **kwargs)\n",
    "    axis.set_xlim(x_axis.min(), x_axis.max())"
   ]
  },
  {
   "cell_type": "code",
   "execution_count": null,
   "metadata": {
    "collapsed": true
   },
   "outputs": [],
   "source": [
    "fig, axs = plt.subplots(nrows=2, figsize=(16,8), sharex=True)\n",
    "window = np.arange(-8 * 6000, 8 * 6000)\n",
    "x_axis_ep = window / 6000\n",
    "\n",
    "triggers = gu_inds\n",
    "trig_ep_gu = triggered_behavior(triggers, window, swims)\n",
    "scale = .001\n",
    "\n",
    "stackline(x_axis_ep, trig_ep_gu, axis=axs[0], scale=scale, color='k')\n",
    "axs[0].title.set_text('Giving up trials')\n",
    "[axs[0].axvline(window_im[t] * fs_im, zorder=0, linewidth=5) for t in t_points]\n",
    "\n",
    "triggers = ngu_inds\n",
    "trig_ep_ngu = triggered_behavior(ngu_inds, window, swims)\n",
    "stackline(x_axis_ep, trig_ep_ngu, axis=axs[1], scale=scale, color='k')\n",
    "    \n",
    "axs[1].set_xlim(x_axis_ep[0], x_axis_ep[-1])    \n",
    "axs[1].title.set_text('Non-giving up trials')\n",
    "[axs_format(ax) for ax in axs]\n",
    "[axs[-1].axvline(window_im[t] * fs_im, zorder=0, linewidth=5) for t in t_points]\n",
    "\n",
    "#plt.savefig(dirs['output'] + 'triggered_behavior.pdf')"
   ]
  },
  {
   "cell_type": "code",
   "execution_count": null,
   "metadata": {
    "collapsed": true
   },
   "outputs": [],
   "source": [
    "from skimage.io import imsave\n",
    "imsave(dirs['output'] + 'triggered_average_gu.tif', trig_gu.astype('float32'), compress=1)\n",
    "imsave(dirs['output'] + 'triggered_average_ngu.tif', trig_ngu.astype('float32'), compress=1)"
   ]
  },
  {
   "cell_type": "code",
   "execution_count": null,
   "metadata": {
    "collapsed": true,
    "scrolled": false
   },
   "outputs": [],
   "source": [
    "import matplotlib.gridspec as gridspec\n",
    "\n",
    "to_show = [-11, -4, 0, 4]\n",
    "t_points = [np.where(window_im == t)[0][0] for t in to_show]\n",
    "vol = trig_gu\n",
    "triggers = gu_inds\n",
    "\n",
    "cmap='inferno'\n",
    "gamma = 1\n",
    "\n",
    "window_ep = np.arange(-20 * 6000, 10 * 6000)\n",
    "x_axis_ep = window_ep / 6000\n",
    "\n",
    "trig_ep_gu = triggered_behavior(triggers, window_ep, swims)\n",
    "scale = .001\n",
    "\n",
    "fig = plt.figure(figsize=(18,12))\n",
    "gs = gridspec.GridSpec(2, len(t_points), height_ratios=[1, 3])\n",
    "axs_ims = [plt.subplot(gs[1,t]) for t in range(len(t_points))]\n",
    "axs_ts = plt.subplot(gs[0,:])\n",
    "\n",
    "# plot images\n",
    "for ind,ax in enumerate(axs_ims):\n",
    "    ax.imshow(vol[t_points[ind]].max(0) ** gamma, cmap=cmap)\n",
    "    ax.axis('off')\n",
    "    ax.title.set_fontsize(18)\n",
    "    ax.title.set_text(f'T = {window_im[t_points[ind]] * fs_im} s')    \n",
    "standard_clim(axs_ims, clim_scaling=(1, .3))\n",
    "\n",
    "# plot corresponding timeseries\n",
    "axs_ts.plot(x_axis_ep, trig_ep_gu.mean(0), color='k')\n",
    "axs_ts.set_xlim(x_axis_ep[0], x_axis_ep[-1])\n",
    "axs_ts.set_ylabel('Trial-averaged swim power', fontsize=18)\n",
    "axs_ts.set_xlabel('Time [s]', fontsize=18)\n",
    "\n",
    "axs_ts.tick_params(axis='both', which='major', labelsize=18)\n",
    "axs_ts.tick_params(axis='both', which='minor', labelsize=18)\n",
    "[axs_ts.axvline(window_im[t] * fs_im, zorder=0, linewidth=5) for t in t_points]\n",
    "axs_format(axs_ts)\n",
    "plt.tight_layout()\n",
    "\n",
    "plt.savefig(dirs['output'] + 'triggered_average_gu.pdf')\n",
    "\n",
    "fig, axs_cm = plt.subplots(figsize=(2,8))\n",
    "axs_cm.axis('off')\n",
    "plt.colorbar(axs_ims[0].get_images()[0], ax = axs_cm)\n",
    "plt.savefig(dirs['output'] + 'triggered_average_gu_cbar.pdf')"
   ]
  },
  {
   "cell_type": "code",
   "execution_count": null,
   "metadata": {
    "collapsed": true
   },
   "outputs": [],
   "source": []
  }
 ],
 "metadata": {
  "kernelspec": {
   "display_name": "Python 3",
   "language": "python",
   "name": "python3"
  },
  "language_info": {
   "codemirror_mode": {
    "name": "ipython",
    "version": 3
   },
   "file_extension": ".py",
   "mimetype": "text/x-python",
   "name": "python",
   "nbconvert_exporter": "python",
   "pygments_lexer": "ipython3",
   "version": "3.5.3"
  }
 },
 "nbformat": 4,
 "nbformat_minor": 2
}
