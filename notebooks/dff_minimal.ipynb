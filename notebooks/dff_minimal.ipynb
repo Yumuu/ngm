{
 "cells": [
  {
   "cell_type": "code",
   "execution_count": 4,
   "metadata": {},
   "outputs": [],
   "source": [
    "import json\n",
    "param_path = '/groups/ahrens/home/bennettd/dff_params.json'\n",
    "\n",
    "params = {}\n",
    "params['spatial_downsampling'] = (1,8,8)\n",
    "params['baseline_downsampling'] = 10\n",
    "params['baseline_percentile'] = 20\n",
    "params['baseline_window'] = 150\n",
    "params['baseline_offset'] = 10\n",
    "params['out_dtype'] = 'uint16'\n",
    "params['save_multifile'] = False\n",
    "params['overwrite_registration'] = False\n",
    "\n",
    "with open(param_path,'w') as f:\n",
    "    json.dump(params, f)"
   ]
  },
  {
   "cell_type": "code",
   "execution_count": 7,
   "metadata": {},
   "outputs": [
    {
     "name": "stdout",
     "output_type": "stream",
     "text": [
      "Preparing images...\n",
      "Registering images...\n",
      "Registration params not found, performing registration\n",
      "Estimating dff...\n",
      "Saving images...\n"
     ]
    },
    {
     "name": "stderr",
     "output_type": "stream",
     "text": [
      "/groups/ahrens/home/bennettd/anaconda3/lib/python3.6/site-packages/skimage/io/_io.py:132: UserWarning: /nrs/ahrens/davis/data/spim/proc/20180328/5dpf_ec43xcy171xcy331_f1_opto_1_20180328_205506/5dpf_ec43xcy171xcy331_f1_opto_1_20180328_205506.tif is a low contrast image\n",
      "  warn('%s is a low contrast image' % fname)\n",
      "/groups/ahrens/home/bennettd/anaconda3/lib/python3.6/site-packages/skimage/external/tifffile/tifffile.py:1088: UserWarning: truncating ImageJ file\n",
      "  warnings.warn(\"truncating ImageJ file\")\n"
     ]
    },
    {
     "name": "stdout",
     "output_type": "stream",
     "text": [
      "Preparing images...\n",
      "Registering images...\n",
      "Registration params not found, performing registration\n",
      "Estimating dff...\n",
      "Saving images...\n"
     ]
    },
    {
     "name": "stderr",
     "output_type": "stream",
     "text": [
      "/groups/ahrens/home/bennettd/anaconda3/lib/python3.6/site-packages/skimage/io/_io.py:132: UserWarning: /nrs/ahrens/davis/data/spim/proc/20180328/5dpf_ec43xcy171xcy331_f1_opto_2_20180328_232414/5dpf_ec43xcy171xcy331_f1_opto_2_20180328_232414.tif is a low contrast image\n",
      "  warn('%s is a low contrast image' % fname)\n",
      "/groups/ahrens/home/bennettd/anaconda3/lib/python3.6/site-packages/skimage/external/tifffile/tifffile.py:1088: UserWarning: truncating ImageJ file\n",
      "  warnings.warn(\"truncating ImageJ file\")\n"
     ]
    }
   ],
   "source": [
    "from os.path import exists\n",
    "from os import makedirs\n",
    "from fish.image.zds import ZDS\n",
    "from fish.scripts import save_dff\n",
    "# Yu's 2-color data \n",
    "# '/groups/ahrens/ahrenslab/YuMu/SPIM/active_datasets/20170221/fish5/20170221_5_3_gfaprgeco_hucgc_6dpf_wholebrain_20170221_223941/raw/'\n",
    "# /nrs/ahrens/Yu/newfromdm11/glia_neuron_imaging/20170228/fish4/20170228_4_1_gfaprgeco_hucgc_6dpf_shorttrials_20170228_185002/raw/\n",
    "raw_paths = ('/nrs/ahrens/davis/data/spim/raw/20180328/5dpf_ec43xcy171xcy331_f1_opto_1_20180328_205506/',\n",
    "            '/nrs/ahrens/davis/data/spim/raw/20180328/5dpf_ec43xcy171xcy331_f1_opto_2_20180328_232414/')\n",
    "\n",
    "for raw_path in raw_paths:\n",
    "    out_path = raw_path.replace('raw','proc')\n",
    "\n",
    "    if not exists(out_path):\n",
    "        makedirs(out_path)\n",
    "    \n",
    "    save_dff.generate_dff_images(raw_path, param_path, out_path, sc)"
   ]
  },
  {
   "cell_type": "code",
   "execution_count": null,
   "metadata": {},
   "outputs": [],
   "source": [
    "from subprocess import call\n",
    "call([\"bkill\", \"0\"])"
   ]
  },
  {
   "cell_type": "markdown",
   "metadata": {},
   "source": [
    "# These experiments are done:\n",
    "/groups/ahrens/ahrenslab/davis/data/spim/raw/20160607/5dpf_cy171xcy221_f1_omr_2_20160607_195118/\n",
    "/groups/ahrens/ahrenslab/davis/data/spim/raw/20160607/5dpf_cy171xcy221_f1_omr_1_20160607_183009/\n",
    "/groups/ahrens/ahrenslab/davis/data/spim/raw/20160915/7dpf_cy171xcy221_f1_omr_1_20160915_135228/\n",
    "/groups/ahrens/ahrenslab/davis/data/spim/raw/20160915/7dpf_cy171xcy221_f1_omr_2_20160915_141427/         /nrs/ahrens/davis/data/spim/raw/20160614/5dpf_cy171xcy221_f1_caudal_omr_1_20160614_183344/\n",
    "/nrs/ahrens/davis/data/spim/raw/20160614/5dpf_cy171xcy221_f1_caudal_omr_2_20160614_185018/\n",
    "/nrs/ahrens/davis/data/spim/raw/20160608/6dpf_cy171xcy221_f1_omr_1_20160608_170933/\n",
    "/nrs/ahrens/davis/data/spim/raw/20160608/6dpf_cy171xcy221_f2_omr_1_20160608_190404/\n",
    "/nrs/ahrens/davis/data/spim/raw/20151207/4dpf_cy171xcy204_ori_g_1_20151207_172943/\n",
    "/nrs/ahrens/davis/data/spim/raw/20150421/4dpf_cy221_flash_1_20150421_212854/\n",
    "/nrs/ahrens/davis/data/spim/raw/20150421/4dpf_cy221_omr_1_20150421_220622/\n",
    "/nrs/ahrens/davis/data/spim/raw/20150421/4dpf_cy221_ori_1_20150421_205653/\n",
    "/nrs/ahrens/davis/data/spim/raw/20141123/9dpf_cy221_ass_1_20141123_012256/\n",
    "/nrs/ahrens/davis/data/spim/raw/20141123/9dpf_cy221_ass_2_20141123_023858/\n",
    "/nrs/ahrens/davis/data/spim/raw/20141123/9dpf_cy221_flash_1_20141123_020137/\n",
    "/nrs/ahrens/davis/data/spim/raw/20141123/9dpf_cy221_ori_1_20141123_005228/\n",
    "/nrs/ahrens/davis/data/spim/raw/20141114/7dpf_cy221_flash_1_20141114_222149/\n",
    "/nrs/ahrens/davis/data/spim/raw/20141114/7dpf_cy221_flash_2_20141114_225157/\n",
    "/nrs/ahrens/davis/data/spim/raw/20141114/7dpf_cy221_flash_3_20141114_230658/\n",
    "/nrs/ahrens/davis/data/spim/raw/20141114/7dpf_cy221_ori_1_20141114_215528/\n",
    "/nrs/ahrens/davis/data/spim/raw/20141114/7dpf_cy221_spf_1_20141114_212431/\n",
    "/nrs/ahrens/davis/data/spim/raw/20141026/9dpf_cy221_ass_1_20141026_223356/\n",
    "/nrs/ahrens/davis/data/spim/raw/20141026/9dpf_cy221_ori_1_20141026_180759/\n",
    "/nrs/ahrens/davis/data/spim/raw/20141026/9dpf_cy221_spf_1_20141026_192416/\n",
    "/nrs/ahrens/davis/data/spim/raw/20141022/5dpf_cy221_ori_1_20141022_162619/\n",
    "/nrs/ahrens/davis/data/spim/raw/20141022/5dpf_cy221_ori_2_20141022_193434/\n",
    "/nrs/ahrens/davis/data/spim/raw/20160608/6dpf_cy171xcy221_f2_omr_2_20160608_200632/\n",
    "/nrs/ahrens/davis/data/spim/raw/20160526/7dpf_cy171xcy221_f1_omr_1_20160526_183631/\n",
    "/nrs/ahrens/davis/data/spim/raw/20160526/7dpf_cy171xcy221_f2_olcl_2_20160526_210900/\n",
    "/nrs/ahrens/davis/data/spim/raw/20180321/f1/5dpf_ec43xcy331xcy171_f1_opto_1_20180321_115401/\n",
    "/nrs/ahrens/davis/data/spim/raw/20180321/f1/5dpf_ec43xcy331xcy171_f1_opto_2_20180321_162917/\n",
    "/nrs/ahrens/davis/data/spim/raw/20180321/f2/5dpf_ec43xcy331xcy171_f2_opto_1_20180321_180812/\n",
    "/nrs/ahrens/davis/data/spim/raw/20180321/f2/5dpf_ec43xcy331xcy171_f2_opto_2_20180321_212747/\n",
    "/nrs/ahrens/davis/data/spim/raw/20180406/7dpf_ec43xcy171xcy331_opto_1_20180406_121139/\n",
    "/nrs/ahrens/davis/data/spim/raw/20180406/7dpf_ec43xcy171xcy331_opto_2_20180406_144001/\n",
    "/nrs/ahrens/davis/data/spim/raw/20180406/7dpf_ec43xcy171xcy331_opto_3_20180406_151826/\n",
    "/nrs/ahrens/davis/data/spim/raw/20180328/5dpf_ec43xcy171xcy331_f1_opto_1_20180328_205506/\n",
    "/nrs/ahrens/davis/data/spim/raw/20180328/5dpf_ec43xcy171xcy331_f1_opto_2_20180328_232414/"
   ]
  },
  {
   "cell_type": "code",
   "execution_count": null,
   "metadata": {},
   "outputs": [],
   "source": []
  }
 ],
 "metadata": {
  "kernelspec": {
   "display_name": "Python 3",
   "language": "python",
   "name": "python3"
  },
  "language_info": {
   "codemirror_mode": {
    "name": "ipython",
    "version": 3
   },
   "file_extension": ".py",
   "mimetype": "text/x-python",
   "name": "python",
   "nbconvert_exporter": "python",
   "pygments_lexer": "ipython3",
   "version": "3.6.4"
  }
 },
 "nbformat": 4,
 "nbformat_minor": 2
}
