{
 "cells": [
  {
   "cell_type": "code",
   "execution_count": 1,
   "metadata": {
    "collapsed": false,
    "deletable": true,
    "editable": true
   },
   "outputs": [],
   "source": [
    "import numpy as np\n",
    "import pyqtgraph as pqg\n",
    "%gui qt\n",
    "pqg.setConfigOption('antialias', True)"
   ]
  },
  {
   "cell_type": "code",
   "execution_count": 2,
   "metadata": {
    "collapsed": true,
    "deletable": true,
    "editable": true
   },
   "outputs": [],
   "source": [
    "def axs_format(ax):\n",
    "    ax.spines['right'].set_visible(False)\n",
    "    ax.spines['top'].set_visible(False)\n",
    "    ax.xaxis.set_ticks_position('bottom')\n",
    "    ax.yaxis.set_ticks_position('left')\n",
    "    \n",
    "def get_crossings(v, thr=3.8):\n",
    "    from numpy import where\n",
    "    return np.where((v[:-1] < thr) * (v[1:] > thr))[0] \n",
    "\n",
    "\n",
    "def load_matfile(fname, dset='rawdata'):\n",
    "    from h5py import File\n",
    "    result = dict()\n",
    "    with File(fname, 'r') as f:\n",
    "        for x in f[dset].keys():\n",
    "            result[x] = np.squeeze(f[dset][x].value)\n",
    "            \n",
    "    return result"
   ]
  },
  {
   "cell_type": "code",
   "execution_count": null,
   "metadata": {
    "collapsed": true,
    "deletable": true,
    "editable": true
   },
   "outputs": [],
   "source": [
    "#import sys\n",
    "#lib = 'C:\\\\Users\\\\bennettd\\\\Documents\\\\GitHub\\\\fish\\\\'\n",
    "#if lib not in sys.path:\n",
    "#    sys.path.append(lib)"
   ]
  },
  {
   "cell_type": "code",
   "execution_count": 34,
   "metadata": {
    "collapsed": false,
    "deletable": true,
    "editable": true
   },
   "outputs": [
    {
     "name": "stdout",
     "output_type": "stream",
     "text": [
      "7200\n"
     ]
    }
   ],
   "source": [
    "import fish.ephys.ephys as ep\n",
    "from glob import glob\n",
    "from skimage.io import imread\n",
    "\n",
    "base_dirs = ['/groups/ahrens/ahrenslab/FROM_TIER2/Yu/SPIM/active_datasets/20170221/fish4/20170221_4_4_gfaprgeco_hucgc_6dpf_wholebrain_faster_brighter_20170221_185519/',\n",
    "            '/groups/ahrens/ahrenslab/FROM_TIER2/Yu/SPIM/active_datasets/20170131/fish5/20170131_5_1_GFAPRGECO_DBHGC5slow_5dpf_waist_CLPause_0GAIN_GAINMODULATION_20170131_220542/',\n",
    "            '/groups/ahrens/ahrenslab/davis/data/spim/proc/20160607/5dpf_cy171xcy221_f1_flash_1_20160607_205245/proj/',\n",
    "            '/groups/ahrens/ahrenslab/FROM_TIER2/Yu/SPIM/active_datasets/20170228/fish4/20170228_4_1_gfaprgeco_hucgc_6dpf_shorttrials_20170228_185002/']\n",
    "\n",
    "exp = -1\n",
    "dirs = {}\n",
    "dirs['base'] = base_dirs[exp]\n",
    "dirs['proj'] = dirs['base'] + 'projections/'\n",
    "dirs['ep'] = dirs['base'] + 'ephys/'\n",
    "\n",
    "fnames = glob(dirs['proj'] + 't_*.tif')\n",
    "fnames.sort()\n",
    "\n",
    "ep_dat = load_matfile(dirs['ep'] + 'rawdata.mat')\n",
    "power = np.array([ep.windowed_variance(ep_dat['ch1'])[0], ep.windowed_variance(ep_dat['ch2'])[0]])\n",
    "cam = get_crossings(ep_dat['ch3'])\n",
    "print(len(fnames))\n",
    "cam = cam[:len(fnames)]"
   ]
  },
  {
   "cell_type": "code",
   "execution_count": 5,
   "metadata": {
    "collapsed": false,
    "deletable": true,
    "editable": true
   },
   "outputs": [
    {
     "name": "stdout",
     "output_type": "stream",
     "text": [
      "(7200, 8, 512, 512)\n",
      "CPU times: user 3min 59s, sys: 26.5 s, total: 4min 25s\n",
      "Wall time: 10min 56s\n"
     ]
    }
   ],
   "source": [
    "%%time\n",
    "import numpy as np\n",
    "plr = slice(0, 3000)\n",
    "imdat = np.array([imread(f) for f in fnames])\n",
    "print(imdat.shape)"
   ]
  },
  {
   "cell_type": "code",
   "execution_count": 6,
   "metadata": {
    "collapsed": true,
    "deletable": true,
    "editable": true
   },
   "outputs": [],
   "source": [
    "imdat = imdat.reshape(imdat.shape[0], imdat.shape[1] * imdat.shape[2], imdat.shape[3])"
   ]
  },
  {
   "cell_type": "code",
   "execution_count": 7,
   "metadata": {
    "collapsed": false,
    "deletable": true,
    "editable": true
   },
   "outputs": [],
   "source": [
    "pqim = pqg.image(imdat)"
   ]
  },
  {
   "cell_type": "code",
   "execution_count": 8,
   "metadata": {
    "collapsed": true,
    "deletable": true,
    "editable": true
   },
   "outputs": [],
   "source": [
    "ts = dict()"
   ]
  },
  {
   "cell_type": "code",
   "execution_count": 35,
   "metadata": {
    "collapsed": false,
    "deletable": true,
    "editable": true
   },
   "outputs": [],
   "source": [
    "ts['ephys'] = power[0][cam] + power[1][cam]"
   ]
  },
  {
   "cell_type": "code",
   "execution_count": 40,
   "metadata": {
    "collapsed": false,
    "deletable": true,
    "editable": true
   },
   "outputs": [],
   "source": [
    "ts['6pack'] = pqim.roi.getArrayRegion(imdat, pqim.imageItem, axes=(1,2)).mean((1,2))"
   ]
  },
  {
   "cell_type": "code",
   "execution_count": 13,
   "metadata": {
    "collapsed": false
   },
   "outputs": [
    {
     "name": "stdout",
     "output_type": "stream",
     "text": [
      "dict_keys(['lc', 'waist_n', 'mo', 'waist_g'])\n"
     ]
    }
   ],
   "source": [
    "print(ts.keys())"
   ]
  },
  {
   "cell_type": "code",
   "execution_count": 42,
   "metadata": {
    "collapsed": false,
    "deletable": true,
    "editable": true
   },
   "outputs": [],
   "source": [
    "from scipy.stats import zscore\n",
    "pl = pqg.plot(title='ROI timeseries')\n",
    "leg = pl.plotItem.addLegend()\n",
    "to_plot = ['6pack','waist_g']\n",
    "\n",
    "n_lines = len(to_plot) + 2\n",
    "\n",
    "fs_ep = 6000\n",
    "ds_ep = 20\n",
    "fs_im = np.median(np.diff(cam)) * fs_ep\n",
    "\n",
    "plr_im = np.arange(0, imdat.shape[0])\n",
    "plr_ep = np.arange(cam[plr_im[0]], cam[plr_im[-1]], ds_ep)\n",
    "x_axis_im = cam[plr_im] / fs_ep \n",
    "x_axis_ep = plr_ep / fs_ep\n",
    "\n",
    "pl.plot(x_axis_ep, .1 * zscore(power[0] + power[1])[plr_ep], pen=(len(to_plot), n_lines), autodownsample=True, name='swim power')\n",
    "pl.plot(x_axis_ep,  zscore(ep_dat['stimParam3'])[plr_ep], pen=(len(to_plot) + 1, n_lines), autodownsample=True, name='stim condition')\n",
    "for ind,k in enumerate(to_plot):\n",
    "    pl.plot(x_axis_im, zscore(ts[k])[plr_im], pen=(ind, n_lines), name=k, autodownsample=True)"
   ]
  },
  {
   "cell_type": "code",
   "execution_count": null,
   "metadata": {
    "collapsed": false,
    "deletable": true,
    "editable": true
   },
   "outputs": [],
   "source": [
    "import matplotlib\n",
    "matplotlib.rcParams.update({'font.size' : 14})\n",
    "\n",
    "plr = np.arange(1600, 1840)\n",
    "\n",
    "condition = ep_dat['stimParam3'][cam]\n",
    "\n",
    "fig, axs = plt.subplots(nrows=1, ncols=1, figsize=(16,8))\n",
    "axs.plot(plr * fs_im, ts['waist_g'][plr], label='glial waist', color='r', linewidth=2)\n",
    "axs.plot(plr * fs_im, ts['lc'][plr], label='locus ceroeleus', color='b', linewidth=2, alpha = .7)\n",
    "axs.plot(plr * fs_im, 1000 + 10 * condition[plr], label = 'stimulus condition', zorder=0, alpha = .8, color='k')\n",
    "axs.plot(plr * fs_im, 1000 + 300000 * ts['ephys'][plr], label='ventral root', color='m', linewidth=2, alpha=.7)\n",
    "axs.legend()\n",
    "axs.set_xlim(plr[0]*fs_im, plr[-1] * fs_im)\n",
    "axs.set_xlabel('Time [s]')\n",
    "axs_format(axs)\n",
    "plt.savefig('X:\\\\davis\\\\tmp\\\\putative_gu_lc.png')"
   ]
  },
  {
   "cell_type": "code",
   "execution_count": null,
   "metadata": {
    "collapsed": true,
    "deletable": true,
    "editable": true
   },
   "outputs": [],
   "source": [
    "flat = np.squeeze(imdat.reshape(imdat.shape[0], imdat.shape[1]*imdat.shape[2]))"
   ]
  },
  {
   "cell_type": "code",
   "execution_count": null,
   "metadata": {
    "collapsed": false,
    "deletable": true,
    "editable": true
   },
   "outputs": [],
   "source": [
    "flat = flat[:, np.where(flat[::100,:].std(0) != 0)[0]]"
   ]
  },
  {
   "cell_type": "code",
   "execution_count": null,
   "metadata": {
    "collapsed": false,
    "deletable": true,
    "editable": true
   },
   "outputs": [],
   "source": [
    "flat.shape"
   ]
  },
  {
   "cell_type": "markdown",
   "metadata": {
    "deletable": true,
    "editable": true
   },
   "source": [
    "## Save ROI"
   ]
  },
  {
   "cell_type": "code",
   "execution_count": null,
   "metadata": {
    "collapsed": false,
    "deletable": true,
    "editable": true
   },
   "outputs": [],
   "source": [
    "from sklearn.decomposition import pca"
   ]
  },
  {
   "cell_type": "code",
   "execution_count": null,
   "metadata": {
    "collapsed": false,
    "deletable": true,
    "editable": true
   },
   "outputs": [],
   "source": [
    "roi_data = pqim.roi.getArrayRegion(imdat, pqim.imageItem, axes=(1,2))"
   ]
  },
  {
   "cell_type": "code",
   "execution_count": null,
   "metadata": {
    "collapsed": true,
    "deletable": true,
    "editable": true
   },
   "outputs": [],
   "source": [
    "flat = roi_data.reshape(roi_data.shape[0], roi_data.shape[1] * roi_data.shape[2])"
   ]
  },
  {
   "cell_type": "code",
   "execution_count": null,
   "metadata": {
    "collapsed": false,
    "deletable": true,
    "editable": true
   },
   "outputs": [],
   "source": [
    "pca_result = pca.PCA(n_components=5).fit(flat.T)"
   ]
  },
  {
   "cell_type": "code",
   "execution_count": null,
   "metadata": {
    "collapsed": false,
    "deletable": true,
    "editable": true
   },
   "outputs": [],
   "source": [
    "pca_result.components_.shape"
   ]
  },
  {
   "cell_type": "code",
   "execution_count": null,
   "metadata": {
    "collapsed": false,
    "deletable": true,
    "editable": true
   },
   "outputs": [],
   "source": [
    "import matplotlib.pyplot as plt\n",
    "%matplotlib inline\n",
    "plt.plot(pca_result.components_[0])"
   ]
  },
  {
   "cell_type": "code",
   "execution_count": null,
   "metadata": {
    "collapsed": true,
    "deletable": true,
    "editable": true
   },
   "outputs": [],
   "source": []
  }
 ],
 "metadata": {
  "anaconda-cloud": {},
  "kernelspec": {
   "display_name": "Python [default]",
   "language": "python",
   "name": "python3"
  },
  "language_info": {
   "codemirror_mode": {
    "name": "ipython",
    "version": 3
   },
   "file_extension": ".py",
   "mimetype": "text/x-python",
   "name": "python",
   "nbconvert_exporter": "python",
   "pygments_lexer": "ipython3",
   "version": "3.5.2"
  }
 },
 "nbformat": 4,
 "nbformat_minor": 0
}
