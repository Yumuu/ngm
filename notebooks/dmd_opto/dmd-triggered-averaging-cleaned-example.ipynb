{
 "cells": [
  {
   "cell_type": "code",
   "execution_count": 94,
   "metadata": {},
   "outputs": [],
   "source": [
    "import numpy as np\n",
    "from fish.util.fileio import read_image, read_images\n",
    "import matplotlib.pyplot as plt\n",
    "from glob import glob\n",
    "from fish.util.plot import proj_fuse\n",
    "from fish.image.vol import get_stack_freq\n",
    "from skimage.transform import downscale_local_mean\n",
    "\n",
    "#stack_freq,_,_ = get_stack_freq('/groups/ahrens/ahrenslab/YuMu/SPIM/active_datasets/20171229/fish1/20171229_1_5_hucrgeco_gfapcochr_7dpf_stimwaist_imagedwiithhigherpower_20171229_135523/raw/')\n",
    "stack_freq,_,_ = get_stack_freq('/groups/ahrens/ahrenslab/davis/data/spim/raw/20180208/6dpf_cy252xcy293_optostim_test_20180208_185317/')\n",
    "um_per_pix = .40625\n",
    "# this should be inferred from metadata...\n",
    "ds_xy = 2\n",
    "%matplotlib inline"
   ]
  },
  {
   "cell_type": "code",
   "execution_count": 2,
   "metadata": {},
   "outputs": [],
   "source": [
    "from functools import reduce\n",
    "from math import gcd\n",
    "aspect = np.array((8, ds_xy * um_per_pix, ds_xy * um_per_pix))\n",
    "aspect *= 10\n",
    "aspect //= reduce(gcd, np.round(aspect).astype('int'))\n",
    "aspect=aspect.astype('int')"
   ]
  },
  {
   "cell_type": "code",
   "execution_count": null,
   "metadata": {},
   "outputs": [],
   "source": [
    "from fish.image.vol import unfilter_flat\n",
    "import pathlib as pl\n",
    "from os.path import sep\n",
    "condition_dirs = sorted(glob('/groups/ahrens/ahrenslab/davis/data/spim/proc/20180208/6dpf_cy252xcy293_optostim_test_20180208_185317/opto/condition_*/'))\n",
    "av_window = np.load('/groups/ahrens/ahrenslab/davis/data/spim/proc/20180208/6dpf_cy252xcy293_optostim_test_20180208_185317/opto/av_window.npy')\n",
    "mask = read_image('/groups/ahrens/ahrenslab/davis/data/spim/proc/20180208/6dpf_cy252xcy293_optostim_test_20180208_185317/opto/mask.tif')\n",
    "out_path = str(pl.Path(condition_dirs[0]).parent) + sep\n",
    "mask = mask[:,::ds_xy,::ds_xy]\n",
    "tr_len = len(av_window)"
   ]
  },
  {
   "cell_type": "code",
   "execution_count": 210,
   "metadata": {},
   "outputs": [
    {
     "name": "stderr",
     "output_type": "stream",
     "text": [
      "/groups/ahrens/home/bennettd/anaconda3/lib/python3.6/site-packages/skimage/external/tifffile/tifffile.py:1088: UserWarning: truncating ImageJ file\n",
      "  warnings.warn(\"truncating ImageJ file\")\n"
     ]
    }
   ],
   "source": [
    "for ind,c_dir in enumerate(condition_dirs):\n",
    "    fnames = sorted(glob(c_dir + '*.npy'))\n",
    "    num_trials = len(fnames) // tr_len\n",
    "    data = np.array([np.load(f) for f in fnames])\n",
    "    data_trial = data.reshape(num_trials, tr_len, data.shape[1])\n",
    "    # get the max across (x,y) for each plane to find timepoints where the laser bled through\n",
    "    mx_by_plane = np.array([[unfilter_flat(d, mask).max((1,2)) for d in tr] for tr in data_trial])\n",
    "    # mask for masked array that blanks timepoints where the max value was too high\n",
    "    thr = .35\n",
    "    valid_mask = mx_by_plane - np.median(mx_by_plane, axis=0)\n",
    "    result = np.zeros([data_trial.shape[1], *mask.shape])\n",
    "\n",
    "    # loop through timepoints, averaging along valid trials \n",
    "    for t in range(data_trial.shape[1]):\n",
    "        trial_vol = np.array([unfilter_flat(dt, mask) for dt in data_trial[:,t]])\n",
    "        full_mask = np.zeros(trial_vol.shape[::-1])\n",
    "        full_mask[:,:] = valid_mask[:,t].T\n",
    "        full_mask = full_mask.T\n",
    "        result[t] = np.ma.array(trial_vol, mask=full_mask > thr).mean(0)\n",
    "\n",
    "    from skimage.io import imsave\n",
    "    imsave(out_path + 'condition_{0}_mean.tif'.format(ind+1), result.astype('float32'), imagej=True)"
   ]
  },
  {
   "cell_type": "code",
   "execution_count": null,
   "metadata": {},
   "outputs": [],
   "source": [
    "stim_dur = 3.0\n",
    "onset = np.where((av_window / stack_freq) == 0)[0][0]\n",
    "offset = np.where((av_window / stack_freq) > stim_dur)[0][0]"
   ]
  },
  {
   "cell_type": "code",
   "execution_count": null,
   "metadata": {},
   "outputs": [],
   "source": [
    "plt.imshow(proj_fuse(np.nanmax(data_c[:onset], axis=0), np.nanmax, aspect=aspect), origin='lower')"
   ]
  },
  {
   "cell_type": "code",
   "execution_count": null,
   "metadata": {},
   "outputs": [],
   "source": [
    "fig, axs = plt.subplots(nrows=3, ncols=1)\n",
    "fig.set_facecolor('black')\n",
    "axs[0].imshow(proj_fuse(np.nanmean(data_c[offset:], axis=0) - np.nanmean(data_c[:onset], axis=0), np.nanmax, aspect=aspect), origin='lower')"
   ]
  },
  {
   "cell_type": "code",
   "execution_count": null,
   "metadata": {},
   "outputs": [],
   "source": [
    "plt.imshow(proj_fuse(np.nanmean(data_c[offset:], axis=0), np.nanmin, aspect=aspect), origin='lower')"
   ]
  },
  {
   "cell_type": "code",
   "execution_count": null,
   "metadata": {},
   "outputs": [],
   "source": [
    "from skimage.io import imread, imsave\n",
    "from skimage.external import tifffile as tf\n",
    "test_data = np.random.randn(10,10,10,10).astype('float32')\n",
    "imsave('/groups/ahrens/ahrenslab/davis/test.tif', test_data, imagej=True, metadata={'axes' : 'ZYX', 'resolution_zyx' : [1,.1,.1]})\n",
    "import ast\n",
    "ast.literal_eval(b.as_str()[2:-1])['resolution_zyx']"
   ]
  },
  {
   "cell_type": "code",
   "execution_count": null,
   "metadata": {},
   "outputs": [],
   "source": [
    "a = tf.TiffFile('/groups/ahrens/ahrenslab/davis/test.tif')"
   ]
  },
  {
   "cell_type": "code",
   "execution_count": null,
   "metadata": {},
   "outputs": [],
   "source": [
    "data = read_images(fnames)"
   ]
  },
  {
   "cell_type": "code",
   "execution_count": null,
   "metadata": {},
   "outputs": [],
   "source": [
    "# apply a median filter in time to deal with funky missing data\n",
    "from scipy.ndimage.filters import median_filter\n",
    "data_mf = median_filter(data, (3,1,1,1))"
   ]
  },
  {
   "cell_type": "code",
   "execution_count": null,
   "metadata": {},
   "outputs": [],
   "source": [
    "data_c = data_mf.copy()\n",
    "data_c[data_c == 0] = np.NAN"
   ]
  },
  {
   "cell_type": "code",
   "execution_count": null,
   "metadata": {},
   "outputs": [],
   "source": [
    "data.shape\n",
    "imsave('/groups/ahrens/ahrenslab/davis/test.tif', data_mf, imagej=True)"
   ]
  },
  {
   "cell_type": "code",
   "execution_count": null,
   "metadata": {},
   "outputs": [],
   "source": [
    "data_mf.shape"
   ]
  },
  {
   "cell_type": "code",
   "execution_count": null,
   "metadata": {},
   "outputs": [],
   "source": [
    "num_plots = data_mf.shape[0] // 5\n",
    "slices = [np.arange(num_plots) + t for t in range(0, data_mf.shape[0], num_plots)]"
   ]
  },
  {
   "cell_type": "code",
   "execution_count": null,
   "metadata": {},
   "outputs": [],
   "source": [
    "num_plots = data_mf.shape[0] // 5\n",
    "slices = [np.arange(num_plots) + t for t in range(0, data_mf.shape[0], num_plots)]\n",
    "nr = 2\n",
    "nc = num_plots\n",
    "fig, axs = plt.subplots(figsize=(8 * nc,8 * nr), nrows=nr, ncols=nc)\n",
    "fig.set_facecolor('black')\n",
    "for ind, sl in enumerate(slices):\n",
    "    axs[0][ind].imshow(proj_fuse(np.nanmax(data_c[sl],axis=0), np.nanmax, aspect=aspect.astype('int')).T[:-260], cmap='gray', clim=[0,1])\n",
    "    axs[1][ind].imshow(proj_fuse(np.nanmin(data_c[sl],axis=0), np.nanmin, aspect=aspect.astype('int')).T[:-260], cmap='gray', clim=[-.1,.4])    \n",
    "plt.subplots_adjust(wspace=-.6,hspace=0)\n",
    "[ax.axis('off') for ax in axs.ravel()];"
   ]
  }
 ],
 "metadata": {
  "kernelspec": {
   "display_name": "Python 3",
   "language": "python",
   "name": "python3"
  },
  "language_info": {
   "codemirror_mode": {
    "name": "ipython",
    "version": 3
   },
   "file_extension": ".py",
   "mimetype": "text/x-python",
   "name": "python",
   "nbconvert_exporter": "python",
   "pygments_lexer": "ipython3",
   "version": "3.6.4"
  }
 },
 "nbformat": 4,
 "nbformat_minor": 2
}
